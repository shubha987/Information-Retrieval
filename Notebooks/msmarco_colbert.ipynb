{
 "cells": [
  {
   "cell_type": "code",
   "execution_count": 8,
   "id": "21dcc212",
   "metadata": {},
   "outputs": [
    {
     "name": "stdout",
     "output_type": "stream",
     "text": [
      "Collecting torch\n",
      "  Downloading torch-2.8.0-cp310-cp310-manylinux_2_28_x86_64.whl (888.0 MB)\n",
      "\u001b[2K     \u001b[90m━━━━━━━━━━━━━━━━━━━━━━━━━━━━━━━━━━━━━━━\u001b[0m \u001b[32m888.0/888.0 MB\u001b[0m \u001b[31m2.2 MB/s\u001b[0m eta \u001b[36m0:00:00\u001b[0m00:01\u001b[0m00:21\u001b[0m\n",
      "\u001b[?25hRequirement already satisfied: nvidia-nccl-cu12==2.27.3 in /home/killdollar/btp/Information-Retrieval/venv/lib/python3.10/site-packages (from torch) (2.27.3)\n",
      "Requirement already satisfied: nvidia-cuda-runtime-cu12==12.8.90 in /home/killdollar/btp/Information-Retrieval/venv/lib/python3.10/site-packages (from torch) (12.8.90)\n",
      "Requirement already satisfied: fsspec in /home/killdollar/btp/Information-Retrieval/venv/lib/python3.10/site-packages (from torch) (2025.7.0)\n",
      "Requirement already satisfied: nvidia-cufile-cu12==1.13.1.3 in /home/killdollar/btp/Information-Retrieval/venv/lib/python3.10/site-packages (from torch) (1.13.1.3)\n",
      "Requirement already satisfied: triton==3.4.0 in /home/killdollar/btp/Information-Retrieval/venv/lib/python3.10/site-packages (from torch) (3.4.0)\n",
      "Requirement already satisfied: nvidia-cuda-nvrtc-cu12==12.8.93 in /home/killdollar/btp/Information-Retrieval/venv/lib/python3.10/site-packages (from torch) (12.8.93)\n",
      "Requirement already satisfied: nvidia-curand-cu12==10.3.9.90 in /home/killdollar/btp/Information-Retrieval/venv/lib/python3.10/site-packages (from torch) (10.3.9.90)\n",
      "Requirement already satisfied: nvidia-cublas-cu12==12.8.4.1 in /home/killdollar/btp/Information-Retrieval/venv/lib/python3.10/site-packages (from torch) (12.8.4.1)\n",
      "Requirement already satisfied: nvidia-cusparselt-cu12==0.7.1 in /home/killdollar/btp/Information-Retrieval/venv/lib/python3.10/site-packages (from torch) (0.7.1)\n",
      "Requirement already satisfied: nvidia-nvtx-cu12==12.8.90 in /home/killdollar/btp/Information-Retrieval/venv/lib/python3.10/site-packages (from torch) (12.8.90)\n",
      "Requirement already satisfied: filelock in /home/killdollar/btp/Information-Retrieval/venv/lib/python3.10/site-packages (from torch) (3.19.1)\n",
      "Collecting nvidia-cufft-cu12==11.3.3.83\n",
      "  Downloading nvidia_cufft_cu12-11.3.3.83-py3-none-manylinux2014_x86_64.manylinux_2_17_x86_64.whl (193.1 MB)\n",
      "\u001b[2K     \u001b[90m━━━━━━━━━━━━━━━━━━━━━━━━━━━━━━━━━━━━━\u001b[0m \u001b[32m193.1/193.1 MB\u001b[0m \u001b[31m999.5 kB/s\u001b[0m eta \u001b[36m0:00:00\u001b[0m00:01\u001b[0m00:07\u001b[0m\n",
      "\u001b[?25hCollecting nvidia-cusolver-cu12==11.7.3.90\n",
      "  Downloading nvidia_cusolver_cu12-11.7.3.90-py3-none-manylinux_2_27_x86_64.whl (267.5 MB)\n",
      "\u001b[2K     \u001b[90m━━━━━━━━━━━━━━━━━━━━━━━━━━━━━━━━━━━━━━━\u001b[0m \u001b[32m267.5/267.5 MB\u001b[0m \u001b[31m1.6 MB/s\u001b[0m eta \u001b[36m0:00:00\u001b[0m00:01\u001b[0m00:03\u001b[0m\n",
      "\u001b[?25hCollecting nvidia-cusparse-cu12==12.5.8.93\n",
      "  Downloading nvidia_cusparse_cu12-12.5.8.93-py3-none-manylinux2014_x86_64.manylinux_2_17_x86_64.whl (288.2 MB)\n",
      "\u001b[2K     \u001b[90m━━━━━━━━━━━━━━━━━━━━━━━━━━━━━━━━━━━━━━━\u001b[0m \u001b[32m288.2/288.2 MB\u001b[0m \u001b[31m1.3 MB/s\u001b[0m eta \u001b[36m0:00:00\u001b[0m00:01\u001b[0m00:04\u001b[0m\n",
      "\u001b[?25hRequirement already satisfied: networkx in /home/killdollar/btp/Information-Retrieval/venv/lib/python3.10/site-packages (from torch) (3.4.2)\n",
      "Requirement already satisfied: jinja2 in /home/killdollar/btp/Information-Retrieval/venv/lib/python3.10/site-packages (from torch) (3.1.6)\n",
      "Requirement already satisfied: nvidia-nvjitlink-cu12==12.8.93 in /home/killdollar/btp/Information-Retrieval/venv/lib/python3.10/site-packages (from torch) (12.8.93)\n",
      "Requirement already satisfied: typing-extensions>=4.10.0 in /home/killdollar/btp/Information-Retrieval/venv/lib/python3.10/site-packages (from torch) (4.14.1)\n",
      "Requirement already satisfied: nvidia-cuda-cupti-cu12==12.8.90 in /home/killdollar/btp/Information-Retrieval/venv/lib/python3.10/site-packages (from torch) (12.8.90)\n",
      "Requirement already satisfied: sympy>=1.13.3 in /home/killdollar/btp/Information-Retrieval/venv/lib/python3.10/site-packages (from torch) (1.14.0)\n",
      "Collecting nvidia-cudnn-cu12==9.10.2.21\n",
      "  Downloading nvidia_cudnn_cu12-9.10.2.21-py3-none-manylinux_2_27_x86_64.whl (706.8 MB)\n",
      "\u001b[2K     \u001b[90m━━━━━━━━━━━━━━━━━━━━━━━━━━━━━━━━━━━━━━━\u001b[0m \u001b[32m706.8/706.8 MB\u001b[0m \u001b[31m2.9 MB/s\u001b[0m eta \u001b[36m0:00:00\u001b[0m00:01\u001b[0m00:07\u001b[0m\n",
      "\u001b[?25hRequirement already satisfied: setuptools>=40.8.0 in /home/killdollar/btp/Information-Retrieval/venv/lib/python3.10/site-packages (from triton==3.4.0->torch) (59.6.0)\n",
      "Requirement already satisfied: mpmath<1.4,>=1.1.0 in /home/killdollar/btp/Information-Retrieval/venv/lib/python3.10/site-packages (from sympy>=1.13.3->torch) (1.3.0)\n",
      "Requirement already satisfied: MarkupSafe>=2.0 in /home/killdollar/btp/Information-Retrieval/venv/lib/python3.10/site-packages (from jinja2->torch) (3.0.2)\n",
      "Installing collected packages: nvidia-cusparse-cu12, nvidia-cufft-cu12, nvidia-cudnn-cu12, nvidia-cusolver-cu12, torch\n",
      "Successfully installed nvidia-cudnn-cu12-9.10.2.21 nvidia-cufft-cu12-11.3.3.83 nvidia-cusolver-cu12-11.7.3.90 nvidia-cusparse-cu12-12.5.8.93 torch-2.8.0\n",
      "Note: you may need to restart the kernel to use updated packages.\n"
     ]
    }
   ],
   "source": [
    "%pip install --no-cache-dir torch"
   ]
  },
  {
   "cell_type": "code",
   "execution_count": 9,
   "id": "8277efc2",
   "metadata": {},
   "outputs": [
    {
     "name": "stdout",
     "output_type": "stream",
     "text": [
      "Collecting sentence-transformers\n",
      "  Using cached sentence_transformers-5.1.0-py3-none-any.whl (483 kB)\n",
      "Collecting transformers<5.0.0,>=4.41.0\n",
      "  Using cached transformers-4.55.2-py3-none-any.whl (11.3 MB)\n",
      "Requirement already satisfied: typing_extensions>=4.5.0 in /home/killdollar/btp/Information-Retrieval/venv/lib/python3.10/site-packages (from sentence-transformers) (4.14.1)\n",
      "Requirement already satisfied: torch>=1.11.0 in /home/killdollar/btp/Information-Retrieval/venv/lib/python3.10/site-packages (from sentence-transformers) (2.8.0)\n",
      "Collecting scikit-learn\n",
      "  Using cached scikit_learn-1.7.1-cp310-cp310-manylinux2014_x86_64.manylinux_2_17_x86_64.whl (9.7 MB)\n",
      "Requirement already satisfied: scipy in /home/killdollar/btp/Information-Retrieval/venv/lib/python3.10/site-packages (from sentence-transformers) (1.15.3)\n",
      "Requirement already satisfied: tqdm in /home/killdollar/btp/Information-Retrieval/venv/lib/python3.10/site-packages (from sentence-transformers) (4.67.1)\n",
      "Collecting huggingface-hub>=0.20.0\n",
      "  Using cached huggingface_hub-0.34.4-py3-none-any.whl (561 kB)\n",
      "Requirement already satisfied: Pillow in /home/killdollar/btp/Information-Retrieval/venv/lib/python3.10/site-packages (from sentence-transformers) (11.3.0)\n",
      "Requirement already satisfied: hf-xet<2.0.0,>=1.1.3 in /home/killdollar/btp/Information-Retrieval/venv/lib/python3.10/site-packages (from huggingface-hub>=0.20.0->sentence-transformers) (1.1.7)\n",
      "Requirement already satisfied: fsspec>=2023.5.0 in /home/killdollar/btp/Information-Retrieval/venv/lib/python3.10/site-packages (from huggingface-hub>=0.20.0->sentence-transformers) (2025.7.0)\n",
      "Requirement already satisfied: filelock in /home/killdollar/btp/Information-Retrieval/venv/lib/python3.10/site-packages (from huggingface-hub>=0.20.0->sentence-transformers) (3.19.1)\n",
      "Requirement already satisfied: pyyaml>=5.1 in /home/killdollar/btp/Information-Retrieval/venv/lib/python3.10/site-packages (from huggingface-hub>=0.20.0->sentence-transformers) (6.0.2)\n",
      "Requirement already satisfied: packaging>=20.9 in /home/killdollar/btp/Information-Retrieval/venv/lib/python3.10/site-packages (from huggingface-hub>=0.20.0->sentence-transformers) (21.3)\n",
      "Requirement already satisfied: requests in /home/killdollar/btp/Information-Retrieval/venv/lib/python3.10/site-packages (from huggingface-hub>=0.20.0->sentence-transformers) (2.32.4)\n",
      "Requirement already satisfied: nvidia-cuda-nvrtc-cu12==12.8.93 in /home/killdollar/btp/Information-Retrieval/venv/lib/python3.10/site-packages (from torch>=1.11.0->sentence-transformers) (12.8.93)\n",
      "Requirement already satisfied: nvidia-cusolver-cu12==11.7.3.90 in /home/killdollar/btp/Information-Retrieval/venv/lib/python3.10/site-packages (from torch>=1.11.0->sentence-transformers) (11.7.3.90)\n",
      "Requirement already satisfied: sympy>=1.13.3 in /home/killdollar/btp/Information-Retrieval/venv/lib/python3.10/site-packages (from torch>=1.11.0->sentence-transformers) (1.14.0)\n",
      "Requirement already satisfied: nvidia-nccl-cu12==2.27.3 in /home/killdollar/btp/Information-Retrieval/venv/lib/python3.10/site-packages (from torch>=1.11.0->sentence-transformers) (2.27.3)\n",
      "Requirement already satisfied: networkx in /home/killdollar/btp/Information-Retrieval/venv/lib/python3.10/site-packages (from torch>=1.11.0->sentence-transformers) (3.4.2)\n",
      "Requirement already satisfied: nvidia-cufile-cu12==1.13.1.3 in /home/killdollar/btp/Information-Retrieval/venv/lib/python3.10/site-packages (from torch>=1.11.0->sentence-transformers) (1.13.1.3)\n",
      "Requirement already satisfied: nvidia-cuda-runtime-cu12==12.8.90 in /home/killdollar/btp/Information-Retrieval/venv/lib/python3.10/site-packages (from torch>=1.11.0->sentence-transformers) (12.8.90)\n",
      "Requirement already satisfied: nvidia-cusparse-cu12==12.5.8.93 in /home/killdollar/btp/Information-Retrieval/venv/lib/python3.10/site-packages (from torch>=1.11.0->sentence-transformers) (12.5.8.93)\n",
      "Requirement already satisfied: nvidia-cuda-cupti-cu12==12.8.90 in /home/killdollar/btp/Information-Retrieval/venv/lib/python3.10/site-packages (from torch>=1.11.0->sentence-transformers) (12.8.90)\n",
      "Requirement already satisfied: nvidia-cufft-cu12==11.3.3.83 in /home/killdollar/btp/Information-Retrieval/venv/lib/python3.10/site-packages (from torch>=1.11.0->sentence-transformers) (11.3.3.83)\n",
      "Requirement already satisfied: nvidia-cusparselt-cu12==0.7.1 in /home/killdollar/btp/Information-Retrieval/venv/lib/python3.10/site-packages (from torch>=1.11.0->sentence-transformers) (0.7.1)\n",
      "Requirement already satisfied: jinja2 in /home/killdollar/btp/Information-Retrieval/venv/lib/python3.10/site-packages (from torch>=1.11.0->sentence-transformers) (3.1.6)\n",
      "Requirement already satisfied: triton==3.4.0 in /home/killdollar/btp/Information-Retrieval/venv/lib/python3.10/site-packages (from torch>=1.11.0->sentence-transformers) (3.4.0)\n",
      "Requirement already satisfied: nvidia-curand-cu12==10.3.9.90 in /home/killdollar/btp/Information-Retrieval/venv/lib/python3.10/site-packages (from torch>=1.11.0->sentence-transformers) (10.3.9.90)\n",
      "Requirement already satisfied: nvidia-cudnn-cu12==9.10.2.21 in /home/killdollar/btp/Information-Retrieval/venv/lib/python3.10/site-packages (from torch>=1.11.0->sentence-transformers) (9.10.2.21)\n",
      "Requirement already satisfied: nvidia-nvtx-cu12==12.8.90 in /home/killdollar/btp/Information-Retrieval/venv/lib/python3.10/site-packages (from torch>=1.11.0->sentence-transformers) (12.8.90)\n",
      "Requirement already satisfied: nvidia-nvjitlink-cu12==12.8.93 in /home/killdollar/btp/Information-Retrieval/venv/lib/python3.10/site-packages (from torch>=1.11.0->sentence-transformers) (12.8.93)\n",
      "Requirement already satisfied: nvidia-cublas-cu12==12.8.4.1 in /home/killdollar/btp/Information-Retrieval/venv/lib/python3.10/site-packages (from torch>=1.11.0->sentence-transformers) (12.8.4.1)\n",
      "Requirement already satisfied: setuptools>=40.8.0 in /home/killdollar/btp/Information-Retrieval/venv/lib/python3.10/site-packages (from triton==3.4.0->torch>=1.11.0->sentence-transformers) (59.6.0)\n",
      "Requirement already satisfied: safetensors>=0.4.3 in /home/killdollar/btp/Information-Retrieval/venv/lib/python3.10/site-packages (from transformers<5.0.0,>=4.41.0->sentence-transformers) (0.6.2)\n",
      "Requirement already satisfied: numpy>=1.17 in /home/killdollar/btp/Information-Retrieval/venv/lib/python3.10/site-packages (from transformers<5.0.0,>=4.41.0->sentence-transformers) (1.26.4)\n",
      "Requirement already satisfied: regex!=2019.12.17 in /home/killdollar/btp/Information-Retrieval/venv/lib/python3.10/site-packages (from transformers<5.0.0,>=4.41.0->sentence-transformers) (2025.7.34)\n",
      "Collecting tokenizers<0.22,>=0.21\n",
      "  Using cached tokenizers-0.21.4-cp39-abi3-manylinux_2_17_x86_64.manylinux2014_x86_64.whl (3.1 MB)\n",
      "Requirement already satisfied: joblib>=1.2.0 in /home/killdollar/btp/Information-Retrieval/venv/lib/python3.10/site-packages (from scikit-learn->sentence-transformers) (1.5.1)\n",
      "Requirement already satisfied: threadpoolctl>=3.1.0 in /home/killdollar/btp/Information-Retrieval/venv/lib/python3.10/site-packages (from scikit-learn->sentence-transformers) (3.6.0)\n",
      "Requirement already satisfied: pyparsing!=3.0.5,>=2.0.2 in /home/killdollar/btp/Information-Retrieval/venv/lib/python3.10/site-packages (from packaging>=20.9->huggingface-hub>=0.20.0->sentence-transformers) (3.2.3)\n",
      "Requirement already satisfied: mpmath<1.4,>=1.1.0 in /home/killdollar/btp/Information-Retrieval/venv/lib/python3.10/site-packages (from sympy>=1.13.3->torch>=1.11.0->sentence-transformers) (1.3.0)\n",
      "Requirement already satisfied: MarkupSafe>=2.0 in /home/killdollar/btp/Information-Retrieval/venv/lib/python3.10/site-packages (from jinja2->torch>=1.11.0->sentence-transformers) (3.0.2)\n",
      "Requirement already satisfied: urllib3<3,>=1.21.1 in /home/killdollar/btp/Information-Retrieval/venv/lib/python3.10/site-packages (from requests->huggingface-hub>=0.20.0->sentence-transformers) (2.5.0)\n",
      "Requirement already satisfied: idna<4,>=2.5 in /home/killdollar/btp/Information-Retrieval/venv/lib/python3.10/site-packages (from requests->huggingface-hub>=0.20.0->sentence-transformers) (3.10)\n",
      "Requirement already satisfied: certifi>=2017.4.17 in /home/killdollar/btp/Information-Retrieval/venv/lib/python3.10/site-packages (from requests->huggingface-hub>=0.20.0->sentence-transformers) (2025.8.3)\n",
      "Requirement already satisfied: charset_normalizer<4,>=2 in /home/killdollar/btp/Information-Retrieval/venv/lib/python3.10/site-packages (from requests->huggingface-hub>=0.20.0->sentence-transformers) (3.4.3)\n",
      "Installing collected packages: scikit-learn, huggingface-hub, tokenizers, transformers, sentence-transformers\n",
      "Successfully installed huggingface-hub-0.34.4 scikit-learn-1.7.1 sentence-transformers-5.1.0 tokenizers-0.21.4 transformers-4.55.2\n",
      "Note: you may need to restart the kernel to use updated packages.\n"
     ]
    }
   ],
   "source": [
    "%pip install -U sentence-transformers"
   ]
  },
  {
   "cell_type": "code",
   "execution_count": 1,
   "id": "ec976ab9",
   "metadata": {},
   "outputs": [
    {
     "name": "stderr",
     "output_type": "stream",
     "text": [
      "/home/killdollar/btp/Information-Retrieval/venv/lib/python3.10/site-packages/tqdm/auto.py:21: TqdmWarning: IProgress not found. Please update jupyter and ipywidgets. See https://ipywidgets.readthedocs.io/en/stable/user_install.html\n",
      "  from .autonotebook import tqdm as notebook_tqdm\n"
     ]
    }
   ],
   "source": [
    "import os\n",
    "import pandas as pd\n",
    "import pyterrier as pt\n",
    "import numpy as np\n",
    "from sentence_transformers import CrossEncoder"
   ]
  },
  {
   "cell_type": "code",
   "execution_count": 2,
   "id": "e772c741",
   "metadata": {},
   "outputs": [
    {
     "name": "stderr",
     "output_type": "stream",
     "text": [
      "Java started (triggered by TerrierIndexer.__init__) and loaded: pyterrier.java, pyterrier.terrier.java [version=5.11 (build: craig.macdonald 2025-01-13 21:29), helper_version=0.0.8]\n"
     ]
    }
   ],
   "source": [
    "indexer = pt.IterDictIndexer('./indices/msmarco-passage')\n",
    "index = indexer.path\n",
    "bm25 = pt.terrier.Retriever(index, wmodel=\"BM25\", num_results=100)"
   ]
  },
  {
   "cell_type": "code",
   "execution_count": 3,
   "id": "5a965e6b",
   "metadata": {},
   "outputs": [],
   "source": [
    "ds_topics = pt.get_dataset('irds:msmarco-passage/trec-dl-2019/judged')\n",
    "ds_text = pt.get_dataset('irds:msmarco-passage')\n",
    "topics = ds_topics.get_topics()\n"
   ]
  },
  {
   "cell_type": "code",
   "execution_count": 4,
   "id": "3dbf74dd",
   "metadata": {},
   "outputs": [],
   "source": [
    "def get_text_for_docnos(docnos, dataset):\n",
    "    \"\"\"Efficiently get text for specific document IDs\"\"\"\n",
    "    doc_texts = {}\n",
    "    \n",
    "    # Convert all docnos to the format we'll try\n",
    "    docno_variants = {}\n",
    "    for docno in docnos:\n",
    "        str_docno = str(docno)\n",
    "        docno_variants[str_docno] = docno\n",
    "        # Also try integer version if it's numeric\n",
    "        if str_docno.isdigit():\n",
    "            docno_variants[int(str_docno)] = docno\n",
    "    \n",
    "    # Only iterate through corpus until we find all needed documents\n",
    "    needed_ids = set(docno_variants.keys())\n",
    "    found_count = 0\n",
    "    \n",
    "    corpus_iter = dataset.get_corpus_iter()\n",
    "    for doc in corpus_iter:\n",
    "        doc_id = doc['docno']\n",
    "        \n",
    "        # Check if this document is one we need\n",
    "        if doc_id in needed_ids:\n",
    "            original_docno = docno_variants[doc_id]\n",
    "            doc_texts[original_docno] = doc['text']\n",
    "            found_count += 1\n",
    "            \n",
    "            # Stop early if we found all documents we need\n",
    "            if found_count >= len(docnos):\n",
    "                break\n",
    "    \n",
    "    # Fill in missing documents\n",
    "    for docno in docnos:\n",
    "        if docno not in doc_texts:\n",
    "            doc_texts[docno] = \"Document text not available\"\n",
    "    \n",
    "    return doc_texts\n"
   ]
  },
  {
   "cell_type": "code",
   "execution_count": 5,
   "id": "c8f0f2ef",
   "metadata": {},
   "outputs": [
    {
     "name": "stdout",
     "output_type": "stream",
     "text": [
      "Trying to load ColBERT model from HuggingFace...\n"
     ]
    },
    {
     "name": "stderr",
     "output_type": "stream",
     "text": [
      "Some weights of BertForSequenceClassification were not initialized from the model checkpoint at colbert-ir/colbertv2.0 and are newly initialized: ['classifier.bias', 'classifier.weight']\n",
      "You should probably TRAIN this model on a down-stream task to be able to use it for predictions and inference.\n"
     ]
    },
    {
     "name": "stdout",
     "output_type": "stream",
     "text": [
      "Successfully loaded ColBERT model\n"
     ]
    }
   ],
   "source": [
    "import torch\n",
    "try:\n",
    "    print(\"Trying to load ColBERT model from HuggingFace...\")\n",
    "    from transformers import AutoModelForSequenceClassification, AutoTokenizer\n",
    "    \n",
    "    # Try to load ColBERT model\n",
    "    model_name = \"colbert-ir/colbertv2.0\"\n",
    "    tokenizer = AutoTokenizer.from_pretrained(model_name)\n",
    "    model = AutoModelForSequenceClassification.from_pretrained(model_name)\n",
    "    \n",
    "    def _colbert_apply(df):\n",
    "        \"\"\"Apply ColBERT scoring to query-document pairs\"\"\"\n",
    "        pairs = list(zip(df['query'].values, df['text'].values))\n",
    "        scores = []\n",
    "        \n",
    "        for query, doc in pairs:\n",
    "            inputs = tokenizer(query, doc, return_tensors=\"pt\", truncation=True, max_length=512)\n",
    "            with torch.no_grad():\n",
    "                outputs = model(**inputs)\n",
    "                \n",
    "            # Fix: Handle multi-element logits correctly\n",
    "            # For binary classification models, use the second logit (positive class)\n",
    "            if outputs.logits.size(1) > 1:\n",
    "                # Use the second element (positive class score)\n",
    "                score = outputs.logits[0, 1].item()\n",
    "            else:\n",
    "                # Use the single score if only one dimension\n",
    "                score = outputs.logits.item()\n",
    "                \n",
    "            scores.append(score)\n",
    "        \n",
    "        return np.array(scores)\n",
    "    \n",
    "    # Create the PyTerrier transformer for reranking\n",
    "    reranker = pt.apply.doc_score(_colbert_apply, batch_size=32)\n",
    "    model_name_for_output = \"colbert\"\n",
    "    print(\"Successfully loaded ColBERT model\")\n",
    "    \n",
    "except Exception as e:\n",
    "    print(f\"Failed to load ColBERT: {e}\")\n",
    "    print(\"Falling back to Sentence Transformers MiniLM model...\")\n",
    "    # Rest of your fallback code remains the same"
   ]
  },
  {
   "cell_type": "code",
   "execution_count": 6,
   "id": "3e5ddb5b",
   "metadata": {},
   "outputs": [],
   "source": [
    "def add_text_efficiently(df):\n",
    "    \"\"\"Add text to dataframe for only the documents in this batch\"\"\"\n",
    "    df = df.copy()\n",
    "    docnos = df['docno'].tolist()\n",
    "    doc_texts = get_text_for_docnos(docnos, ds_text)\n",
    "    df['text'] = df['docno'].map(doc_texts)\n",
    "    return df"
   ]
  },
  {
   "cell_type": "code",
   "execution_count": 7,
   "id": "1f6389f3",
   "metadata": {},
   "outputs": [],
   "source": [
    "if reranker is not None:\n",
    "    # BM25 -> Add Text -> Reranking\n",
    "    retrieval_pipeline = bm25 >> pt.apply.generic(add_text_efficiently) >> reranker\n",
    "else:\n",
    "    # BM25 -> Add Text (no reranking)\n",
    "    retrieval_pipeline = bm25 >> pt.apply.generic(add_text_efficiently)\n"
   ]
  },
  {
   "cell_type": "code",
   "execution_count": 8,
   "id": "8bf752b5",
   "metadata": {},
   "outputs": [
    {
     "name": "stdout",
     "output_type": "stream",
     "text": [
      "Processing query 1/43: do goldfish grow\n"
     ]
    },
    {
     "name": "stderr",
     "output_type": "stream",
     "text": [
      "msmarco-passage documents: 100%|█████████▉| 8803136/8841823 [00:30<00:00, 285437.34it/s]\n",
      "/tmp/ipykernel_225393/1915278885.py:16: SettingWithCopyWarning: \n",
      "A value is trying to be set on a copy of a slice from a DataFrame.\n",
      "Try using .loc[row_indexer,col_indexer] = value instead\n",
      "\n",
      "See the caveats in the documentation: https://pandas.pydata.org/pandas-docs/stable/user_guide/indexing.html#returning-a-view-versus-a-copy\n",
      "  top_results['qid'] = query_id\n",
      "/tmp/ipykernel_225393/1915278885.py:17: SettingWithCopyWarning: \n",
      "A value is trying to be set on a copy of a slice from a DataFrame.\n",
      "Try using .loc[row_indexer,col_indexer] = value instead\n",
      "\n",
      "See the caveats in the documentation: https://pandas.pydata.org/pandas-docs/stable/user_guide/indexing.html#returning-a-view-versus-a-copy\n",
      "  top_results['query'] = query_text\n"
     ]
    },
    {
     "name": "stdout",
     "output_type": "stream",
     "text": [
      "\n",
      "Sample results for first query:\n",
      "      docno     score                                               text\n",
      "83  3024301  0.189813  Family Zoo: Growing up in Tasmania, her family...\n",
      "98  3180514  0.079862  Koi Carp Worlds Largest Goldfish Bowl Goldfish...\n",
      "71  2612491  0.070616  Goldfish growth rates can be massive for their...\n",
      "Processing query 2/43: what is wifi vs bluetooth\n"
     ]
    },
    {
     "name": "stderr",
     "output_type": "stream",
     "text": [
      "msmarco-passage documents:  94%|█████████▍| 8301973/8841823 [00:26<00:01, 308702.46it/s]\n",
      "/tmp/ipykernel_225393/1915278885.py:16: SettingWithCopyWarning: \n",
      "A value is trying to be set on a copy of a slice from a DataFrame.\n",
      "Try using .loc[row_indexer,col_indexer] = value instead\n",
      "\n",
      "See the caveats in the documentation: https://pandas.pydata.org/pandas-docs/stable/user_guide/indexing.html#returning-a-view-versus-a-copy\n",
      "  top_results['qid'] = query_id\n",
      "/tmp/ipykernel_225393/1915278885.py:17: SettingWithCopyWarning: \n",
      "A value is trying to be set on a copy of a slice from a DataFrame.\n",
      "Try using .loc[row_indexer,col_indexer] = value instead\n",
      "\n",
      "See the caveats in the documentation: https://pandas.pydata.org/pandas-docs/stable/user_guide/indexing.html#returning-a-view-versus-a-copy\n",
      "  top_results['query'] = query_text\n"
     ]
    },
    {
     "name": "stdout",
     "output_type": "stream",
     "text": [
      "Processing query 3/43: why did the us volunterilay enter ww1\n"
     ]
    },
    {
     "name": "stderr",
     "output_type": "stream",
     "text": [
      "msmarco-passage documents:  99%|█████████▉| 8767916/8841823 [00:30<00:00, 290616.84it/s]\n",
      "/tmp/ipykernel_225393/1915278885.py:16: SettingWithCopyWarning: \n",
      "A value is trying to be set on a copy of a slice from a DataFrame.\n",
      "Try using .loc[row_indexer,col_indexer] = value instead\n",
      "\n",
      "See the caveats in the documentation: https://pandas.pydata.org/pandas-docs/stable/user_guide/indexing.html#returning-a-view-versus-a-copy\n",
      "  top_results['qid'] = query_id\n",
      "/tmp/ipykernel_225393/1915278885.py:17: SettingWithCopyWarning: \n",
      "A value is trying to be set on a copy of a slice from a DataFrame.\n",
      "Try using .loc[row_indexer,col_indexer] = value instead\n",
      "\n",
      "See the caveats in the documentation: https://pandas.pydata.org/pandas-docs/stable/user_guide/indexing.html#returning-a-view-versus-a-copy\n",
      "  top_results['query'] = query_text\n"
     ]
    },
    {
     "name": "stdout",
     "output_type": "stream",
     "text": [
      "Processing query 4/43: definition declaratory judgment\n"
     ]
    },
    {
     "name": "stderr",
     "output_type": "stream",
     "text": [
      "msmarco-passage documents:  97%|█████████▋| 8612910/8841823 [00:27<00:00, 316478.93it/s]\n",
      "/tmp/ipykernel_225393/1915278885.py:16: SettingWithCopyWarning: \n",
      "A value is trying to be set on a copy of a slice from a DataFrame.\n",
      "Try using .loc[row_indexer,col_indexer] = value instead\n",
      "\n",
      "See the caveats in the documentation: https://pandas.pydata.org/pandas-docs/stable/user_guide/indexing.html#returning-a-view-versus-a-copy\n",
      "  top_results['qid'] = query_id\n",
      "/tmp/ipykernel_225393/1915278885.py:17: SettingWithCopyWarning: \n",
      "A value is trying to be set on a copy of a slice from a DataFrame.\n",
      "Try using .loc[row_indexer,col_indexer] = value instead\n",
      "\n",
      "See the caveats in the documentation: https://pandas.pydata.org/pandas-docs/stable/user_guide/indexing.html#returning-a-view-versus-a-copy\n",
      "  top_results['query'] = query_text\n"
     ]
    },
    {
     "name": "stdout",
     "output_type": "stream",
     "text": [
      "Processing query 5/43: right pelvic pain causes\n"
     ]
    },
    {
     "name": "stderr",
     "output_type": "stream",
     "text": [
      "msmarco-passage documents:  99%|█████████▉| 8737053/8841823 [00:27<00:00, 314027.57it/s]\n",
      "/tmp/ipykernel_225393/1915278885.py:16: SettingWithCopyWarning: \n",
      "A value is trying to be set on a copy of a slice from a DataFrame.\n",
      "Try using .loc[row_indexer,col_indexer] = value instead\n",
      "\n",
      "See the caveats in the documentation: https://pandas.pydata.org/pandas-docs/stable/user_guide/indexing.html#returning-a-view-versus-a-copy\n",
      "  top_results['qid'] = query_id\n",
      "/tmp/ipykernel_225393/1915278885.py:17: SettingWithCopyWarning: \n",
      "A value is trying to be set on a copy of a slice from a DataFrame.\n",
      "Try using .loc[row_indexer,col_indexer] = value instead\n",
      "\n",
      "See the caveats in the documentation: https://pandas.pydata.org/pandas-docs/stable/user_guide/indexing.html#returning-a-view-versus-a-copy\n",
      "  top_results['query'] = query_text\n"
     ]
    },
    {
     "name": "stdout",
     "output_type": "stream",
     "text": [
      "Processing query 6/43: what are the social determinants of health\n"
     ]
    },
    {
     "name": "stderr",
     "output_type": "stream",
     "text": [
      "msmarco-passage documents: 100%|█████████▉| 8833199/8841823 [00:28<00:00, 307551.55it/s]\n",
      "/tmp/ipykernel_225393/1915278885.py:16: SettingWithCopyWarning: \n",
      "A value is trying to be set on a copy of a slice from a DataFrame.\n",
      "Try using .loc[row_indexer,col_indexer] = value instead\n",
      "\n",
      "See the caveats in the documentation: https://pandas.pydata.org/pandas-docs/stable/user_guide/indexing.html#returning-a-view-versus-a-copy\n",
      "  top_results['qid'] = query_id\n",
      "/tmp/ipykernel_225393/1915278885.py:17: SettingWithCopyWarning: \n",
      "A value is trying to be set on a copy of a slice from a DataFrame.\n",
      "Try using .loc[row_indexer,col_indexer] = value instead\n",
      "\n",
      "See the caveats in the documentation: https://pandas.pydata.org/pandas-docs/stable/user_guide/indexing.html#returning-a-view-versus-a-copy\n",
      "  top_results['query'] = query_text\n"
     ]
    },
    {
     "name": "stdout",
     "output_type": "stream",
     "text": [
      "Processing query 7/43: does legionella pneumophila cause pneumonia\n"
     ]
    },
    {
     "name": "stderr",
     "output_type": "stream",
     "text": [
      "msmarco-passage documents:  99%|█████████▉| 8743646/8841823 [00:27<00:00, 313626.19it/s]\n",
      "/tmp/ipykernel_225393/1915278885.py:16: SettingWithCopyWarning: \n",
      "A value is trying to be set on a copy of a slice from a DataFrame.\n",
      "Try using .loc[row_indexer,col_indexer] = value instead\n",
      "\n",
      "See the caveats in the documentation: https://pandas.pydata.org/pandas-docs/stable/user_guide/indexing.html#returning-a-view-versus-a-copy\n",
      "  top_results['qid'] = query_id\n",
      "/tmp/ipykernel_225393/1915278885.py:17: SettingWithCopyWarning: \n",
      "A value is trying to be set on a copy of a slice from a DataFrame.\n",
      "Try using .loc[row_indexer,col_indexer] = value instead\n",
      "\n",
      "See the caveats in the documentation: https://pandas.pydata.org/pandas-docs/stable/user_guide/indexing.html#returning-a-view-versus-a-copy\n",
      "  top_results['query'] = query_text\n"
     ]
    },
    {
     "name": "stdout",
     "output_type": "stream",
     "text": [
      "Processing query 8/43: how is the weather in jamaica\n"
     ]
    },
    {
     "name": "stderr",
     "output_type": "stream",
     "text": [
      "msmarco-passage documents: 100%|█████████▉| 8839920/8841823 [00:27<00:00, 319116.72it/s]\n",
      "/tmp/ipykernel_225393/1915278885.py:16: SettingWithCopyWarning: \n",
      "A value is trying to be set on a copy of a slice from a DataFrame.\n",
      "Try using .loc[row_indexer,col_indexer] = value instead\n",
      "\n",
      "See the caveats in the documentation: https://pandas.pydata.org/pandas-docs/stable/user_guide/indexing.html#returning-a-view-versus-a-copy\n",
      "  top_results['qid'] = query_id\n",
      "/tmp/ipykernel_225393/1915278885.py:17: SettingWithCopyWarning: \n",
      "A value is trying to be set on a copy of a slice from a DataFrame.\n",
      "Try using .loc[row_indexer,col_indexer] = value instead\n",
      "\n",
      "See the caveats in the documentation: https://pandas.pydata.org/pandas-docs/stable/user_guide/indexing.html#returning-a-view-versus-a-copy\n",
      "  top_results['query'] = query_text\n"
     ]
    },
    {
     "name": "stdout",
     "output_type": "stream",
     "text": [
      "Processing query 9/43: types of dysarthria from cerebral palsy\n"
     ]
    },
    {
     "name": "stderr",
     "output_type": "stream",
     "text": [
      "msmarco-passage documents:  98%|█████████▊| 8644844/8841823 [00:27<00:00, 313103.43it/s]\n",
      "/tmp/ipykernel_225393/1915278885.py:16: SettingWithCopyWarning: \n",
      "A value is trying to be set on a copy of a slice from a DataFrame.\n",
      "Try using .loc[row_indexer,col_indexer] = value instead\n",
      "\n",
      "See the caveats in the documentation: https://pandas.pydata.org/pandas-docs/stable/user_guide/indexing.html#returning-a-view-versus-a-copy\n",
      "  top_results['qid'] = query_id\n",
      "/tmp/ipykernel_225393/1915278885.py:17: SettingWithCopyWarning: \n",
      "A value is trying to be set on a copy of a slice from a DataFrame.\n",
      "Try using .loc[row_indexer,col_indexer] = value instead\n",
      "\n",
      "See the caveats in the documentation: https://pandas.pydata.org/pandas-docs/stable/user_guide/indexing.html#returning-a-view-versus-a-copy\n",
      "  top_results['query'] = query_text\n"
     ]
    },
    {
     "name": "stdout",
     "output_type": "stream",
     "text": [
      "Processing query 10/43: who is robert gray\n"
     ]
    },
    {
     "name": "stderr",
     "output_type": "stream",
     "text": [
      "msmarco-passage documents: 100%|█████████▉| 8820474/8841823 [00:27<00:00, 315708.68it/s]\n",
      "/tmp/ipykernel_225393/1915278885.py:16: SettingWithCopyWarning: \n",
      "A value is trying to be set on a copy of a slice from a DataFrame.\n",
      "Try using .loc[row_indexer,col_indexer] = value instead\n",
      "\n",
      "See the caveats in the documentation: https://pandas.pydata.org/pandas-docs/stable/user_guide/indexing.html#returning-a-view-versus-a-copy\n",
      "  top_results['qid'] = query_id\n",
      "/tmp/ipykernel_225393/1915278885.py:17: SettingWithCopyWarning: \n",
      "A value is trying to be set on a copy of a slice from a DataFrame.\n",
      "Try using .loc[row_indexer,col_indexer] = value instead\n",
      "\n",
      "See the caveats in the documentation: https://pandas.pydata.org/pandas-docs/stable/user_guide/indexing.html#returning-a-view-versus-a-copy\n",
      "  top_results['query'] = query_text\n"
     ]
    },
    {
     "name": "stdout",
     "output_type": "stream",
     "text": [
      "Processing query 11/43: what types of food can you cook sous vide\n"
     ]
    },
    {
     "name": "stderr",
     "output_type": "stream",
     "text": [
      "msmarco-passage documents:  96%|█████████▌| 8455306/8841823 [00:25<00:01, 326454.97it/s]\n",
      "/tmp/ipykernel_225393/1915278885.py:16: SettingWithCopyWarning: \n",
      "A value is trying to be set on a copy of a slice from a DataFrame.\n",
      "Try using .loc[row_indexer,col_indexer] = value instead\n",
      "\n",
      "See the caveats in the documentation: https://pandas.pydata.org/pandas-docs/stable/user_guide/indexing.html#returning-a-view-versus-a-copy\n",
      "  top_results['qid'] = query_id\n",
      "/tmp/ipykernel_225393/1915278885.py:17: SettingWithCopyWarning: \n",
      "A value is trying to be set on a copy of a slice from a DataFrame.\n",
      "Try using .loc[row_indexer,col_indexer] = value instead\n",
      "\n",
      "See the caveats in the documentation: https://pandas.pydata.org/pandas-docs/stable/user_guide/indexing.html#returning-a-view-versus-a-copy\n",
      "  top_results['query'] = query_text\n"
     ]
    },
    {
     "name": "stdout",
     "output_type": "stream",
     "text": [
      "Processing query 12/43: how long is life cycle of flea\n"
     ]
    },
    {
     "name": "stderr",
     "output_type": "stream",
     "text": [
      "msmarco-passage documents: 100%|█████████▉| 8801660/8841823 [00:27<00:00, 323711.69it/s]\n",
      "/tmp/ipykernel_225393/1915278885.py:16: SettingWithCopyWarning: \n",
      "A value is trying to be set on a copy of a slice from a DataFrame.\n",
      "Try using .loc[row_indexer,col_indexer] = value instead\n",
      "\n",
      "See the caveats in the documentation: https://pandas.pydata.org/pandas-docs/stable/user_guide/indexing.html#returning-a-view-versus-a-copy\n",
      "  top_results['qid'] = query_id\n",
      "/tmp/ipykernel_225393/1915278885.py:17: SettingWithCopyWarning: \n",
      "A value is trying to be set on a copy of a slice from a DataFrame.\n",
      "Try using .loc[row_indexer,col_indexer] = value instead\n",
      "\n",
      "See the caveats in the documentation: https://pandas.pydata.org/pandas-docs/stable/user_guide/indexing.html#returning-a-view-versus-a-copy\n",
      "  top_results['query'] = query_text\n"
     ]
    },
    {
     "name": "stdout",
     "output_type": "stream",
     "text": [
      "Processing query 13/43: what can contour plowing reduce\n"
     ]
    },
    {
     "name": "stderr",
     "output_type": "stream",
     "text": [
      "msmarco-passage documents: 100%|█████████▉| 8832484/8841823 [00:27<00:00, 320462.87it/s]\n",
      "/tmp/ipykernel_225393/1915278885.py:16: SettingWithCopyWarning: \n",
      "A value is trying to be set on a copy of a slice from a DataFrame.\n",
      "Try using .loc[row_indexer,col_indexer] = value instead\n",
      "\n",
      "See the caveats in the documentation: https://pandas.pydata.org/pandas-docs/stable/user_guide/indexing.html#returning-a-view-versus-a-copy\n",
      "  top_results['qid'] = query_id\n",
      "/tmp/ipykernel_225393/1915278885.py:17: SettingWithCopyWarning: \n",
      "A value is trying to be set on a copy of a slice from a DataFrame.\n",
      "Try using .loc[row_indexer,col_indexer] = value instead\n",
      "\n",
      "See the caveats in the documentation: https://pandas.pydata.org/pandas-docs/stable/user_guide/indexing.html#returning-a-view-versus-a-copy\n",
      "  top_results['query'] = query_text\n"
     ]
    },
    {
     "name": "stdout",
     "output_type": "stream",
     "text": [
      "Processing query 14/43: when was the salvation army founded\n"
     ]
    },
    {
     "name": "stderr",
     "output_type": "stream",
     "text": [
      "msmarco-passage documents: 100%|█████████▉| 8811426/8841823 [00:27<00:00, 322606.55it/s]\n",
      "/tmp/ipykernel_225393/1915278885.py:16: SettingWithCopyWarning: \n",
      "A value is trying to be set on a copy of a slice from a DataFrame.\n",
      "Try using .loc[row_indexer,col_indexer] = value instead\n",
      "\n",
      "See the caveats in the documentation: https://pandas.pydata.org/pandas-docs/stable/user_guide/indexing.html#returning-a-view-versus-a-copy\n",
      "  top_results['qid'] = query_id\n",
      "/tmp/ipykernel_225393/1915278885.py:17: SettingWithCopyWarning: \n",
      "A value is trying to be set on a copy of a slice from a DataFrame.\n",
      "Try using .loc[row_indexer,col_indexer] = value instead\n",
      "\n",
      "See the caveats in the documentation: https://pandas.pydata.org/pandas-docs/stable/user_guide/indexing.html#returning-a-view-versus-a-copy\n",
      "  top_results['query'] = query_text\n"
     ]
    },
    {
     "name": "stdout",
     "output_type": "stream",
     "text": [
      "Processing query 15/43: what is a active margin\n"
     ]
    },
    {
     "name": "stderr",
     "output_type": "stream",
     "text": [
      "msmarco-passage documents:  99%|█████████▊| 8714087/8841823 [00:26<00:00, 322897.18it/s]\n",
      "/tmp/ipykernel_225393/1915278885.py:16: SettingWithCopyWarning: \n",
      "A value is trying to be set on a copy of a slice from a DataFrame.\n",
      "Try using .loc[row_indexer,col_indexer] = value instead\n",
      "\n",
      "See the caveats in the documentation: https://pandas.pydata.org/pandas-docs/stable/user_guide/indexing.html#returning-a-view-versus-a-copy\n",
      "  top_results['qid'] = query_id\n",
      "/tmp/ipykernel_225393/1915278885.py:17: SettingWithCopyWarning: \n",
      "A value is trying to be set on a copy of a slice from a DataFrame.\n",
      "Try using .loc[row_indexer,col_indexer] = value instead\n",
      "\n",
      "See the caveats in the documentation: https://pandas.pydata.org/pandas-docs/stable/user_guide/indexing.html#returning-a-view-versus-a-copy\n",
      "  top_results['query'] = query_text\n"
     ]
    },
    {
     "name": "stdout",
     "output_type": "stream",
     "text": [
      "Processing query 16/43: difference between rn and bsn\n"
     ]
    },
    {
     "name": "stderr",
     "output_type": "stream",
     "text": [
      "msmarco-passage documents:  99%|█████████▊| 8730430/8841823 [00:27<00:00, 322038.26it/s]\n",
      "/tmp/ipykernel_225393/1915278885.py:16: SettingWithCopyWarning: \n",
      "A value is trying to be set on a copy of a slice from a DataFrame.\n",
      "Try using .loc[row_indexer,col_indexer] = value instead\n",
      "\n",
      "See the caveats in the documentation: https://pandas.pydata.org/pandas-docs/stable/user_guide/indexing.html#returning-a-view-versus-a-copy\n",
      "  top_results['qid'] = query_id\n",
      "/tmp/ipykernel_225393/1915278885.py:17: SettingWithCopyWarning: \n",
      "A value is trying to be set on a copy of a slice from a DataFrame.\n",
      "Try using .loc[row_indexer,col_indexer] = value instead\n",
      "\n",
      "See the caveats in the documentation: https://pandas.pydata.org/pandas-docs/stable/user_guide/indexing.html#returning-a-view-versus-a-copy\n",
      "  top_results['query'] = query_text\n"
     ]
    },
    {
     "name": "stdout",
     "output_type": "stream",
     "text": [
      "Processing query 17/43: medicare s definition of mechanical ventilation\n"
     ]
    },
    {
     "name": "stderr",
     "output_type": "stream",
     "text": [
      "msmarco-passage documents:  99%|█████████▉| 8787234/8841823 [00:27<00:00, 322428.20it/s]\n",
      "/tmp/ipykernel_225393/1915278885.py:16: SettingWithCopyWarning: \n",
      "A value is trying to be set on a copy of a slice from a DataFrame.\n",
      "Try using .loc[row_indexer,col_indexer] = value instead\n",
      "\n",
      "See the caveats in the documentation: https://pandas.pydata.org/pandas-docs/stable/user_guide/indexing.html#returning-a-view-versus-a-copy\n",
      "  top_results['qid'] = query_id\n",
      "/tmp/ipykernel_225393/1915278885.py:17: SettingWithCopyWarning: \n",
      "A value is trying to be set on a copy of a slice from a DataFrame.\n",
      "Try using .loc[row_indexer,col_indexer] = value instead\n",
      "\n",
      "See the caveats in the documentation: https://pandas.pydata.org/pandas-docs/stable/user_guide/indexing.html#returning-a-view-versus-a-copy\n",
      "  top_results['query'] = query_text\n"
     ]
    },
    {
     "name": "stdout",
     "output_type": "stream",
     "text": [
      "Processing query 18/43: how to find the midsegment of a trapezoid\n"
     ]
    },
    {
     "name": "stderr",
     "output_type": "stream",
     "text": [
      "msmarco-passage documents:  99%|█████████▉| 8748954/8841823 [00:27<00:00, 322321.06it/s]\n",
      "/tmp/ipykernel_225393/1915278885.py:16: SettingWithCopyWarning: \n",
      "A value is trying to be set on a copy of a slice from a DataFrame.\n",
      "Try using .loc[row_indexer,col_indexer] = value instead\n",
      "\n",
      "See the caveats in the documentation: https://pandas.pydata.org/pandas-docs/stable/user_guide/indexing.html#returning-a-view-versus-a-copy\n",
      "  top_results['qid'] = query_id\n",
      "/tmp/ipykernel_225393/1915278885.py:17: SettingWithCopyWarning: \n",
      "A value is trying to be set on a copy of a slice from a DataFrame.\n",
      "Try using .loc[row_indexer,col_indexer] = value instead\n",
      "\n",
      "See the caveats in the documentation: https://pandas.pydata.org/pandas-docs/stable/user_guide/indexing.html#returning-a-view-versus-a-copy\n",
      "  top_results['query'] = query_text\n"
     ]
    },
    {
     "name": "stdout",
     "output_type": "stream",
     "text": [
      "Processing query 19/43: what is an aml surveillance analyst\n"
     ]
    },
    {
     "name": "stderr",
     "output_type": "stream",
     "text": [
      "msmarco-passage documents: 100%|█████████▉| 8828147/8841823 [00:27<00:00, 321987.60it/s]\n",
      "/tmp/ipykernel_225393/1915278885.py:16: SettingWithCopyWarning: \n",
      "A value is trying to be set on a copy of a slice from a DataFrame.\n",
      "Try using .loc[row_indexer,col_indexer] = value instead\n",
      "\n",
      "See the caveats in the documentation: https://pandas.pydata.org/pandas-docs/stable/user_guide/indexing.html#returning-a-view-versus-a-copy\n",
      "  top_results['qid'] = query_id\n",
      "/tmp/ipykernel_225393/1915278885.py:17: SettingWithCopyWarning: \n",
      "A value is trying to be set on a copy of a slice from a DataFrame.\n",
      "Try using .loc[row_indexer,col_indexer] = value instead\n",
      "\n",
      "See the caveats in the documentation: https://pandas.pydata.org/pandas-docs/stable/user_guide/indexing.html#returning-a-view-versus-a-copy\n",
      "  top_results['query'] = query_text\n"
     ]
    },
    {
     "name": "stdout",
     "output_type": "stream",
     "text": [
      "Processing query 20/43: what is the daily life of thai people\n"
     ]
    },
    {
     "name": "stderr",
     "output_type": "stream",
     "text": [
      "msmarco-passage documents:  99%|█████████▊| 8725077/8841823 [00:27<00:00, 321420.83it/s]\n",
      "/tmp/ipykernel_225393/1915278885.py:16: SettingWithCopyWarning: \n",
      "A value is trying to be set on a copy of a slice from a DataFrame.\n",
      "Try using .loc[row_indexer,col_indexer] = value instead\n",
      "\n",
      "See the caveats in the documentation: https://pandas.pydata.org/pandas-docs/stable/user_guide/indexing.html#returning-a-view-versus-a-copy\n",
      "  top_results['qid'] = query_id\n",
      "/tmp/ipykernel_225393/1915278885.py:17: SettingWithCopyWarning: \n",
      "A value is trying to be set on a copy of a slice from a DataFrame.\n",
      "Try using .loc[row_indexer,col_indexer] = value instead\n",
      "\n",
      "See the caveats in the documentation: https://pandas.pydata.org/pandas-docs/stable/user_guide/indexing.html#returning-a-view-versus-a-copy\n",
      "  top_results['query'] = query_text\n"
     ]
    },
    {
     "name": "stdout",
     "output_type": "stream",
     "text": [
      "Processing query 21/43: definition of a sigmet\n"
     ]
    },
    {
     "name": "stderr",
     "output_type": "stream",
     "text": [
      "msmarco-passage documents:  99%|█████████▊| 8710814/8841823 [00:29<00:00, 296577.70it/s]\n",
      "/tmp/ipykernel_225393/1915278885.py:16: SettingWithCopyWarning: \n",
      "A value is trying to be set on a copy of a slice from a DataFrame.\n",
      "Try using .loc[row_indexer,col_indexer] = value instead\n",
      "\n",
      "See the caveats in the documentation: https://pandas.pydata.org/pandas-docs/stable/user_guide/indexing.html#returning-a-view-versus-a-copy\n",
      "  top_results['qid'] = query_id\n",
      "/tmp/ipykernel_225393/1915278885.py:17: SettingWithCopyWarning: \n",
      "A value is trying to be set on a copy of a slice from a DataFrame.\n",
      "Try using .loc[row_indexer,col_indexer] = value instead\n",
      "\n",
      "See the caveats in the documentation: https://pandas.pydata.org/pandas-docs/stable/user_guide/indexing.html#returning-a-view-versus-a-copy\n",
      "  top_results['query'] = query_text\n"
     ]
    },
    {
     "name": "stdout",
     "output_type": "stream",
     "text": [
      "Processing query 22/43: cost of interior concrete flooring\n"
     ]
    },
    {
     "name": "stderr",
     "output_type": "stream",
     "text": [
      "msmarco-passage documents:  97%|█████████▋| 8546679/8841823 [00:27<00:00, 315636.89it/s]\n",
      "/tmp/ipykernel_225393/1915278885.py:16: SettingWithCopyWarning: \n",
      "A value is trying to be set on a copy of a slice from a DataFrame.\n",
      "Try using .loc[row_indexer,col_indexer] = value instead\n",
      "\n",
      "See the caveats in the documentation: https://pandas.pydata.org/pandas-docs/stable/user_guide/indexing.html#returning-a-view-versus-a-copy\n",
      "  top_results['qid'] = query_id\n",
      "/tmp/ipykernel_225393/1915278885.py:17: SettingWithCopyWarning: \n",
      "A value is trying to be set on a copy of a slice from a DataFrame.\n",
      "Try using .loc[row_indexer,col_indexer] = value instead\n",
      "\n",
      "See the caveats in the documentation: https://pandas.pydata.org/pandas-docs/stable/user_guide/indexing.html#returning-a-view-versus-a-copy\n",
      "  top_results['query'] = query_text\n"
     ]
    },
    {
     "name": "stdout",
     "output_type": "stream",
     "text": [
      "Processing query 23/43: what is the most popular food in switzerland\n"
     ]
    },
    {
     "name": "stderr",
     "output_type": "stream",
     "text": [
      "msmarco-passage documents:  99%|█████████▉| 8742336/8841823 [00:27<00:00, 319413.81it/s]\n",
      "/tmp/ipykernel_225393/1915278885.py:16: SettingWithCopyWarning: \n",
      "A value is trying to be set on a copy of a slice from a DataFrame.\n",
      "Try using .loc[row_indexer,col_indexer] = value instead\n",
      "\n",
      "See the caveats in the documentation: https://pandas.pydata.org/pandas-docs/stable/user_guide/indexing.html#returning-a-view-versus-a-copy\n",
      "  top_results['qid'] = query_id\n",
      "/tmp/ipykernel_225393/1915278885.py:17: SettingWithCopyWarning: \n",
      "A value is trying to be set on a copy of a slice from a DataFrame.\n",
      "Try using .loc[row_indexer,col_indexer] = value instead\n",
      "\n",
      "See the caveats in the documentation: https://pandas.pydata.org/pandas-docs/stable/user_guide/indexing.html#returning-a-view-versus-a-copy\n",
      "  top_results['query'] = query_text\n"
     ]
    },
    {
     "name": "stdout",
     "output_type": "stream",
     "text": [
      "Processing query 24/43: how are some sharks warm blooded\n"
     ]
    },
    {
     "name": "stderr",
     "output_type": "stream",
     "text": [
      "msmarco-passage documents:  98%|█████████▊| 8622996/8841823 [00:27<00:00, 315282.50it/s]\n",
      "/tmp/ipykernel_225393/1915278885.py:16: SettingWithCopyWarning: \n",
      "A value is trying to be set on a copy of a slice from a DataFrame.\n",
      "Try using .loc[row_indexer,col_indexer] = value instead\n",
      "\n",
      "See the caveats in the documentation: https://pandas.pydata.org/pandas-docs/stable/user_guide/indexing.html#returning-a-view-versus-a-copy\n",
      "  top_results['qid'] = query_id\n",
      "/tmp/ipykernel_225393/1915278885.py:17: SettingWithCopyWarning: \n",
      "A value is trying to be set on a copy of a slice from a DataFrame.\n",
      "Try using .loc[row_indexer,col_indexer] = value instead\n",
      "\n",
      "See the caveats in the documentation: https://pandas.pydata.org/pandas-docs/stable/user_guide/indexing.html#returning-a-view-versus-a-copy\n",
      "  top_results['query'] = query_text\n"
     ]
    },
    {
     "name": "stdout",
     "output_type": "stream",
     "text": [
      "Processing query 25/43: what is durable medical equipment consist of\n"
     ]
    },
    {
     "name": "stderr",
     "output_type": "stream",
     "text": [
      "msmarco-passage documents:  99%|█████████▉| 8754404/8841823 [00:28<00:00, 312352.06it/s]\n",
      "/tmp/ipykernel_225393/1915278885.py:16: SettingWithCopyWarning: \n",
      "A value is trying to be set on a copy of a slice from a DataFrame.\n",
      "Try using .loc[row_indexer,col_indexer] = value instead\n",
      "\n",
      "See the caveats in the documentation: https://pandas.pydata.org/pandas-docs/stable/user_guide/indexing.html#returning-a-view-versus-a-copy\n",
      "  top_results['qid'] = query_id\n",
      "/tmp/ipykernel_225393/1915278885.py:17: SettingWithCopyWarning: \n",
      "A value is trying to be set on a copy of a slice from a DataFrame.\n",
      "Try using .loc[row_indexer,col_indexer] = value instead\n",
      "\n",
      "See the caveats in the documentation: https://pandas.pydata.org/pandas-docs/stable/user_guide/indexing.html#returning-a-view-versus-a-copy\n",
      "  top_results['query'] = query_text\n"
     ]
    },
    {
     "name": "stdout",
     "output_type": "stream",
     "text": [
      "Processing query 26/43: exons definition biology\n"
     ]
    },
    {
     "name": "stderr",
     "output_type": "stream",
     "text": [
      "msmarco-passage documents:  99%|█████████▉| 8794308/8841823 [00:27<00:00, 317299.40it/s]\n",
      "/tmp/ipykernel_225393/1915278885.py:16: SettingWithCopyWarning: \n",
      "A value is trying to be set on a copy of a slice from a DataFrame.\n",
      "Try using .loc[row_indexer,col_indexer] = value instead\n",
      "\n",
      "See the caveats in the documentation: https://pandas.pydata.org/pandas-docs/stable/user_guide/indexing.html#returning-a-view-versus-a-copy\n",
      "  top_results['qid'] = query_id\n",
      "/tmp/ipykernel_225393/1915278885.py:17: SettingWithCopyWarning: \n",
      "A value is trying to be set on a copy of a slice from a DataFrame.\n",
      "Try using .loc[row_indexer,col_indexer] = value instead\n",
      "\n",
      "See the caveats in the documentation: https://pandas.pydata.org/pandas-docs/stable/user_guide/indexing.html#returning-a-view-versus-a-copy\n",
      "  top_results['query'] = query_text\n"
     ]
    },
    {
     "name": "stdout",
     "output_type": "stream",
     "text": [
      "Processing query 27/43: define visceral\n"
     ]
    },
    {
     "name": "stderr",
     "output_type": "stream",
     "text": [
      "msmarco-passage documents: 100%|█████████▉| 8811080/8841823 [00:27<00:00, 318723.83it/s]\n",
      "/tmp/ipykernel_225393/1915278885.py:16: SettingWithCopyWarning: \n",
      "A value is trying to be set on a copy of a slice from a DataFrame.\n",
      "Try using .loc[row_indexer,col_indexer] = value instead\n",
      "\n",
      "See the caveats in the documentation: https://pandas.pydata.org/pandas-docs/stable/user_guide/indexing.html#returning-a-view-versus-a-copy\n",
      "  top_results['qid'] = query_id\n",
      "/tmp/ipykernel_225393/1915278885.py:17: SettingWithCopyWarning: \n",
      "A value is trying to be set on a copy of a slice from a DataFrame.\n",
      "Try using .loc[row_indexer,col_indexer] = value instead\n",
      "\n",
      "See the caveats in the documentation: https://pandas.pydata.org/pandas-docs/stable/user_guide/indexing.html#returning-a-view-versus-a-copy\n",
      "  top_results['query'] = query_text\n"
     ]
    },
    {
     "name": "stdout",
     "output_type": "stream",
     "text": [
      "Processing query 28/43: tracheids are part of\n"
     ]
    },
    {
     "name": "stderr",
     "output_type": "stream",
     "text": [
      "msmarco-passage documents: 100%|█████████▉| 8828525/8841823 [00:28<00:00, 314273.07it/s]\n",
      "/tmp/ipykernel_225393/1915278885.py:16: SettingWithCopyWarning: \n",
      "A value is trying to be set on a copy of a slice from a DataFrame.\n",
      "Try using .loc[row_indexer,col_indexer] = value instead\n",
      "\n",
      "See the caveats in the documentation: https://pandas.pydata.org/pandas-docs/stable/user_guide/indexing.html#returning-a-view-versus-a-copy\n",
      "  top_results['qid'] = query_id\n",
      "/tmp/ipykernel_225393/1915278885.py:17: SettingWithCopyWarning: \n",
      "A value is trying to be set on a copy of a slice from a DataFrame.\n",
      "Try using .loc[row_indexer,col_indexer] = value instead\n",
      "\n",
      "See the caveats in the documentation: https://pandas.pydata.org/pandas-docs/stable/user_guide/indexing.html#returning-a-view-versus-a-copy\n",
      "  top_results['query'] = query_text\n"
     ]
    },
    {
     "name": "stdout",
     "output_type": "stream",
     "text": [
      "Processing query 29/43: rsa definition key\n"
     ]
    },
    {
     "name": "stderr",
     "output_type": "stream",
     "text": [
      "msmarco-passage documents:  99%|█████████▊| 8709994/8841823 [00:27<00:00, 316887.66it/s]\n",
      "/tmp/ipykernel_225393/1915278885.py:16: SettingWithCopyWarning: \n",
      "A value is trying to be set on a copy of a slice from a DataFrame.\n",
      "Try using .loc[row_indexer,col_indexer] = value instead\n",
      "\n",
      "See the caveats in the documentation: https://pandas.pydata.org/pandas-docs/stable/user_guide/indexing.html#returning-a-view-versus-a-copy\n",
      "  top_results['qid'] = query_id\n",
      "/tmp/ipykernel_225393/1915278885.py:17: SettingWithCopyWarning: \n",
      "A value is trying to be set on a copy of a slice from a DataFrame.\n",
      "Try using .loc[row_indexer,col_indexer] = value instead\n",
      "\n",
      "See the caveats in the documentation: https://pandas.pydata.org/pandas-docs/stable/user_guide/indexing.html#returning-a-view-versus-a-copy\n",
      "  top_results['query'] = query_text\n"
     ]
    },
    {
     "name": "stdout",
     "output_type": "stream",
     "text": [
      "Processing query 30/43: who formed the commonwealth of independent states\n"
     ]
    },
    {
     "name": "stderr",
     "output_type": "stream",
     "text": [
      "msmarco-passage documents:  99%|█████████▉| 8792133/8841823 [00:28<00:00, 311744.52it/s]\n",
      "/tmp/ipykernel_225393/1915278885.py:16: SettingWithCopyWarning: \n",
      "A value is trying to be set on a copy of a slice from a DataFrame.\n",
      "Try using .loc[row_indexer,col_indexer] = value instead\n",
      "\n",
      "See the caveats in the documentation: https://pandas.pydata.org/pandas-docs/stable/user_guide/indexing.html#returning-a-view-versus-a-copy\n",
      "  top_results['qid'] = query_id\n",
      "/tmp/ipykernel_225393/1915278885.py:17: SettingWithCopyWarning: \n",
      "A value is trying to be set on a copy of a slice from a DataFrame.\n",
      "Try using .loc[row_indexer,col_indexer] = value instead\n",
      "\n",
      "See the caveats in the documentation: https://pandas.pydata.org/pandas-docs/stable/user_guide/indexing.html#returning-a-view-versus-a-copy\n",
      "  top_results['query'] = query_text\n"
     ]
    },
    {
     "name": "stdout",
     "output_type": "stream",
     "text": [
      "Processing query 31/43: causes of left ventricular hypertrophy\n"
     ]
    },
    {
     "name": "stderr",
     "output_type": "stream",
     "text": [
      "msmarco-passage documents:  99%|█████████▉| 8738510/8841823 [00:28<00:00, 311097.05it/s]\n",
      "/tmp/ipykernel_225393/1915278885.py:16: SettingWithCopyWarning: \n",
      "A value is trying to be set on a copy of a slice from a DataFrame.\n",
      "Try using .loc[row_indexer,col_indexer] = value instead\n",
      "\n",
      "See the caveats in the documentation: https://pandas.pydata.org/pandas-docs/stable/user_guide/indexing.html#returning-a-view-versus-a-copy\n",
      "  top_results['qid'] = query_id\n",
      "/tmp/ipykernel_225393/1915278885.py:17: SettingWithCopyWarning: \n",
      "A value is trying to be set on a copy of a slice from a DataFrame.\n",
      "Try using .loc[row_indexer,col_indexer] = value instead\n",
      "\n",
      "See the caveats in the documentation: https://pandas.pydata.org/pandas-docs/stable/user_guide/indexing.html#returning-a-view-versus-a-copy\n",
      "  top_results['query'] = query_text\n"
     ]
    },
    {
     "name": "stdout",
     "output_type": "stream",
     "text": [
      "Processing query 32/43: lps laws definition\n"
     ]
    },
    {
     "name": "stderr",
     "output_type": "stream",
     "text": [
      "msmarco-passage documents:  99%|█████████▉| 8769489/8841823 [00:27<00:00, 318405.15it/s]\n",
      "/tmp/ipykernel_225393/1915278885.py:16: SettingWithCopyWarning: \n",
      "A value is trying to be set on a copy of a slice from a DataFrame.\n",
      "Try using .loc[row_indexer,col_indexer] = value instead\n",
      "\n",
      "See the caveats in the documentation: https://pandas.pydata.org/pandas-docs/stable/user_guide/indexing.html#returning-a-view-versus-a-copy\n",
      "  top_results['qid'] = query_id\n",
      "/tmp/ipykernel_225393/1915278885.py:17: SettingWithCopyWarning: \n",
      "A value is trying to be set on a copy of a slice from a DataFrame.\n",
      "Try using .loc[row_indexer,col_indexer] = value instead\n",
      "\n",
      "See the caveats in the documentation: https://pandas.pydata.org/pandas-docs/stable/user_guide/indexing.html#returning-a-view-versus-a-copy\n",
      "  top_results['query'] = query_text\n"
     ]
    },
    {
     "name": "stdout",
     "output_type": "stream",
     "text": [
      "Processing query 33/43: what are the three percenters\n"
     ]
    },
    {
     "name": "stderr",
     "output_type": "stream",
     "text": [
      "msmarco-passage documents:  99%|█████████▉| 8749913/8841823 [00:27<00:00, 316304.54it/s]\n",
      "/tmp/ipykernel_225393/1915278885.py:16: SettingWithCopyWarning: \n",
      "A value is trying to be set on a copy of a slice from a DataFrame.\n",
      "Try using .loc[row_indexer,col_indexer] = value instead\n",
      "\n",
      "See the caveats in the documentation: https://pandas.pydata.org/pandas-docs/stable/user_guide/indexing.html#returning-a-view-versus-a-copy\n",
      "  top_results['qid'] = query_id\n",
      "/tmp/ipykernel_225393/1915278885.py:17: SettingWithCopyWarning: \n",
      "A value is trying to be set on a copy of a slice from a DataFrame.\n",
      "Try using .loc[row_indexer,col_indexer] = value instead\n",
      "\n",
      "See the caveats in the documentation: https://pandas.pydata.org/pandas-docs/stable/user_guide/indexing.html#returning-a-view-versus-a-copy\n",
      "  top_results['query'] = query_text\n"
     ]
    },
    {
     "name": "stdout",
     "output_type": "stream",
     "text": [
      "Processing query 34/43: causes of military suicide\n"
     ]
    },
    {
     "name": "stderr",
     "output_type": "stream",
     "text": [
      "msmarco-passage documents: 100%|█████████▉| 8819116/8841823 [00:28<00:00, 311947.35it/s]\n",
      "/tmp/ipykernel_225393/1915278885.py:16: SettingWithCopyWarning: \n",
      "A value is trying to be set on a copy of a slice from a DataFrame.\n",
      "Try using .loc[row_indexer,col_indexer] = value instead\n",
      "\n",
      "See the caveats in the documentation: https://pandas.pydata.org/pandas-docs/stable/user_guide/indexing.html#returning-a-view-versus-a-copy\n",
      "  top_results['qid'] = query_id\n",
      "/tmp/ipykernel_225393/1915278885.py:17: SettingWithCopyWarning: \n",
      "A value is trying to be set on a copy of a slice from a DataFrame.\n",
      "Try using .loc[row_indexer,col_indexer] = value instead\n",
      "\n",
      "See the caveats in the documentation: https://pandas.pydata.org/pandas-docs/stable/user_guide/indexing.html#returning-a-view-versus-a-copy\n",
      "  top_results['query'] = query_text\n"
     ]
    },
    {
     "name": "stdout",
     "output_type": "stream",
     "text": [
      "Processing query 35/43: what is theraderm used for\n"
     ]
    },
    {
     "name": "stderr",
     "output_type": "stream",
     "text": [
      "msmarco-passage documents:  98%|█████████▊| 8651776/8841823 [00:27<00:00, 314664.69it/s]\n"
     ]
    },
    {
     "name": "stdout",
     "output_type": "stream",
     "text": [
      "Processing query 36/43: what is famvir prescribed for\n"
     ]
    },
    {
     "name": "stderr",
     "output_type": "stream",
     "text": [
      "msmarco-passage documents:  98%|█████████▊| 8665820/8841823 [00:27<00:00, 313735.66it/s]\n",
      "/tmp/ipykernel_225393/1915278885.py:16: SettingWithCopyWarning: \n",
      "A value is trying to be set on a copy of a slice from a DataFrame.\n",
      "Try using .loc[row_indexer,col_indexer] = value instead\n",
      "\n",
      "See the caveats in the documentation: https://pandas.pydata.org/pandas-docs/stable/user_guide/indexing.html#returning-a-view-versus-a-copy\n",
      "  top_results['qid'] = query_id\n",
      "/tmp/ipykernel_225393/1915278885.py:17: SettingWithCopyWarning: \n",
      "A value is trying to be set on a copy of a slice from a DataFrame.\n",
      "Try using .loc[row_indexer,col_indexer] = value instead\n",
      "\n",
      "See the caveats in the documentation: https://pandas.pydata.org/pandas-docs/stable/user_guide/indexing.html#returning-a-view-versus-a-copy\n",
      "  top_results['query'] = query_text\n"
     ]
    },
    {
     "name": "stdout",
     "output_type": "stream",
     "text": [
      "Processing query 37/43: anthropological definition of environment\n"
     ]
    },
    {
     "name": "stderr",
     "output_type": "stream",
     "text": [
      "msmarco-passage documents: 100%|█████████▉| 8798990/8841823 [00:28<00:00, 305022.88it/s]\n",
      "/tmp/ipykernel_225393/1915278885.py:16: SettingWithCopyWarning: \n",
      "A value is trying to be set on a copy of a slice from a DataFrame.\n",
      "Try using .loc[row_indexer,col_indexer] = value instead\n",
      "\n",
      "See the caveats in the documentation: https://pandas.pydata.org/pandas-docs/stable/user_guide/indexing.html#returning-a-view-versus-a-copy\n",
      "  top_results['qid'] = query_id\n",
      "/tmp/ipykernel_225393/1915278885.py:17: SettingWithCopyWarning: \n",
      "A value is trying to be set on a copy of a slice from a DataFrame.\n",
      "Try using .loc[row_indexer,col_indexer] = value instead\n",
      "\n",
      "See the caveats in the documentation: https://pandas.pydata.org/pandas-docs/stable/user_guide/indexing.html#returning-a-view-versus-a-copy\n",
      "  top_results['query'] = query_text\n"
     ]
    },
    {
     "name": "stdout",
     "output_type": "stream",
     "text": [
      "Processing query 38/43: axon terminals or synaptic knob definition\n"
     ]
    },
    {
     "name": "stderr",
     "output_type": "stream",
     "text": [
      "msmarco-passage documents:  98%|█████████▊| 8641107/8841823 [00:38<00:00, 226115.88it/s]\n",
      "/tmp/ipykernel_225393/1915278885.py:16: SettingWithCopyWarning: \n",
      "A value is trying to be set on a copy of a slice from a DataFrame.\n",
      "Try using .loc[row_indexer,col_indexer] = value instead\n",
      "\n",
      "See the caveats in the documentation: https://pandas.pydata.org/pandas-docs/stable/user_guide/indexing.html#returning-a-view-versus-a-copy\n",
      "  top_results['qid'] = query_id\n",
      "/tmp/ipykernel_225393/1915278885.py:17: SettingWithCopyWarning: \n",
      "A value is trying to be set on a copy of a slice from a DataFrame.\n",
      "Try using .loc[row_indexer,col_indexer] = value instead\n",
      "\n",
      "See the caveats in the documentation: https://pandas.pydata.org/pandas-docs/stable/user_guide/indexing.html#returning-a-view-versus-a-copy\n",
      "  top_results['query'] = query_text\n"
     ]
    },
    {
     "name": "stdout",
     "output_type": "stream",
     "text": [
      "Processing query 39/43: is cdg airport in main paris\n"
     ]
    },
    {
     "name": "stderr",
     "output_type": "stream",
     "text": [
      "msmarco-passage documents:  97%|█████████▋| 8610271/8841823 [00:31<00:00, 272497.98it/s]\n",
      "/tmp/ipykernel_225393/1915278885.py:16: SettingWithCopyWarning: \n",
      "A value is trying to be set on a copy of a slice from a DataFrame.\n",
      "Try using .loc[row_indexer,col_indexer] = value instead\n",
      "\n",
      "See the caveats in the documentation: https://pandas.pydata.org/pandas-docs/stable/user_guide/indexing.html#returning-a-view-versus-a-copy\n",
      "  top_results['qid'] = query_id\n",
      "/tmp/ipykernel_225393/1915278885.py:17: SettingWithCopyWarning: \n",
      "A value is trying to be set on a copy of a slice from a DataFrame.\n",
      "Try using .loc[row_indexer,col_indexer] = value instead\n",
      "\n",
      "See the caveats in the documentation: https://pandas.pydata.org/pandas-docs/stable/user_guide/indexing.html#returning-a-view-versus-a-copy\n",
      "  top_results['query'] = query_text\n"
     ]
    },
    {
     "name": "stdout",
     "output_type": "stream",
     "text": [
      "Processing query 40/43: example of monotonic function\n"
     ]
    },
    {
     "name": "stderr",
     "output_type": "stream",
     "text": [
      "msmarco-passage documents:  99%|█████████▉| 8757184/8841823 [00:28<00:00, 302505.54it/s]\n",
      "/tmp/ipykernel_225393/1915278885.py:16: SettingWithCopyWarning: \n",
      "A value is trying to be set on a copy of a slice from a DataFrame.\n",
      "Try using .loc[row_indexer,col_indexer] = value instead\n",
      "\n",
      "See the caveats in the documentation: https://pandas.pydata.org/pandas-docs/stable/user_guide/indexing.html#returning-a-view-versus-a-copy\n",
      "  top_results['qid'] = query_id\n",
      "/tmp/ipykernel_225393/1915278885.py:17: SettingWithCopyWarning: \n",
      "A value is trying to be set on a copy of a slice from a DataFrame.\n",
      "Try using .loc[row_indexer,col_indexer] = value instead\n",
      "\n",
      "See the caveats in the documentation: https://pandas.pydata.org/pandas-docs/stable/user_guide/indexing.html#returning-a-view-versus-a-copy\n",
      "  top_results['query'] = query_text\n"
     ]
    },
    {
     "name": "stdout",
     "output_type": "stream",
     "text": [
      "Processing query 41/43: what is physical description of spruce\n"
     ]
    },
    {
     "name": "stderr",
     "output_type": "stream",
     "text": [
      "msmarco-passage documents:  96%|█████████▌| 8503450/8841823 [00:28<00:01, 302855.01it/s]\n",
      "/tmp/ipykernel_225393/1915278885.py:16: SettingWithCopyWarning: \n",
      "A value is trying to be set on a copy of a slice from a DataFrame.\n",
      "Try using .loc[row_indexer,col_indexer] = value instead\n",
      "\n",
      "See the caveats in the documentation: https://pandas.pydata.org/pandas-docs/stable/user_guide/indexing.html#returning-a-view-versus-a-copy\n",
      "  top_results['qid'] = query_id\n",
      "/tmp/ipykernel_225393/1915278885.py:17: SettingWithCopyWarning: \n",
      "A value is trying to be set on a copy of a slice from a DataFrame.\n",
      "Try using .loc[row_indexer,col_indexer] = value instead\n",
      "\n",
      "See the caveats in the documentation: https://pandas.pydata.org/pandas-docs/stable/user_guide/indexing.html#returning-a-view-versus-a-copy\n",
      "  top_results['query'] = query_text\n"
     ]
    },
    {
     "name": "stdout",
     "output_type": "stream",
     "text": [
      "Processing query 42/43: hydrogen is a liquid below what temperature\n"
     ]
    },
    {
     "name": "stderr",
     "output_type": "stream",
     "text": [
      "msmarco-passage documents:  99%|█████████▊| 8712732/8841823 [00:29<00:00, 298622.94it/s]\n",
      "/tmp/ipykernel_225393/1915278885.py:16: SettingWithCopyWarning: \n",
      "A value is trying to be set on a copy of a slice from a DataFrame.\n",
      "Try using .loc[row_indexer,col_indexer] = value instead\n",
      "\n",
      "See the caveats in the documentation: https://pandas.pydata.org/pandas-docs/stable/user_guide/indexing.html#returning-a-view-versus-a-copy\n",
      "  top_results['qid'] = query_id\n",
      "/tmp/ipykernel_225393/1915278885.py:17: SettingWithCopyWarning: \n",
      "A value is trying to be set on a copy of a slice from a DataFrame.\n",
      "Try using .loc[row_indexer,col_indexer] = value instead\n",
      "\n",
      "See the caveats in the documentation: https://pandas.pydata.org/pandas-docs/stable/user_guide/indexing.html#returning-a-view-versus-a-copy\n",
      "  top_results['query'] = query_text\n"
     ]
    },
    {
     "name": "stdout",
     "output_type": "stream",
     "text": [
      "Processing query 43/43: difference between a mcdouble and a double cheeseburger\n"
     ]
    },
    {
     "name": "stderr",
     "output_type": "stream",
     "text": [
      "msmarco-passage documents:  99%|█████████▉| 8795495/8841823 [00:29<00:00, 301062.21it/s]\n"
     ]
    },
    {
     "name": "stdout",
     "output_type": "stream",
     "text": [
      "\n",
      "Retrieved 425 documents across 43 queries\n",
      "Results saved to colbert_results.csv\n",
      "\n",
      "Top documents for first few queries:\n",
      "        qid    docno     score\n",
      "83   156493  3024301  0.189813\n",
      "38  1110199   735472  0.121643\n",
      "80  1063750  4047881  0.050373\n",
      "41   130510  5685710  0.104719\n",
      "52   489204  6461840  0.131342\n"
     ]
    },
    {
     "name": "stderr",
     "output_type": "stream",
     "text": [
      "/tmp/ipykernel_225393/1915278885.py:16: SettingWithCopyWarning: \n",
      "A value is trying to be set on a copy of a slice from a DataFrame.\n",
      "Try using .loc[row_indexer,col_indexer] = value instead\n",
      "\n",
      "See the caveats in the documentation: https://pandas.pydata.org/pandas-docs/stable/user_guide/indexing.html#returning-a-view-versus-a-copy\n",
      "  top_results['qid'] = query_id\n",
      "/tmp/ipykernel_225393/1915278885.py:17: SettingWithCopyWarning: \n",
      "A value is trying to be set on a copy of a slice from a DataFrame.\n",
      "Try using .loc[row_indexer,col_indexer] = value instead\n",
      "\n",
      "See the caveats in the documentation: https://pandas.pydata.org/pandas-docs/stable/user_guide/indexing.html#returning-a-view-versus-a-copy\n",
      "  top_results['query'] = query_text\n"
     ]
    }
   ],
   "source": [
    "all_results = []\n",
    "\n",
    "for idx, row in topics.iterrows():\n",
    "    query_id = row['qid']\n",
    "    query_text = row['query']\n",
    "    \n",
    "    print(f\"Processing query {idx+1}/{len(topics)}: {query_text}\")\n",
    "    \n",
    "    # Get results from the pipeline\n",
    "    results = retrieval_pipeline.search(query_text)\n",
    "    \n",
    "    # Take top 10 results\n",
    "    top_results = results.head(10)\n",
    "    \n",
    "    # Add query information to results\n",
    "    top_results['qid'] = query_id\n",
    "    top_results['query'] = query_text\n",
    "    \n",
    "    # Add to collection\n",
    "    all_results.append(top_results)\n",
    "    \n",
    "    # Show sample results for first query\n",
    "    if idx == 0:\n",
    "        print(\"\\nSample results for first query:\")\n",
    "        print(top_results[['docno', 'score', 'text']].head(3))\n",
    "\n",
    "# Step 8: Combine all results\n",
    "combined_results = pd.concat(all_results) if all_results else pd.DataFrame()\n",
    "\n",
    "# Step 9: Save results to CSV\n",
    "output_file = f'{model_name_for_output}_results.csv'\n",
    "combined_results.to_csv(output_file, index=False)\n",
    "\n",
    "print(f\"\\nRetrieved {len(combined_results)} documents across {len(topics)} queries\")\n",
    "print(f\"Results saved to {output_file}\")\n",
    "\n",
    "# Step 10: Show summary of results\n",
    "print(\"\\nTop documents for first few queries:\")\n",
    "print(combined_results.groupby('qid').head(1)[['qid', 'docno', 'score']].head(5))"
   ]
  },
  {
   "cell_type": "code",
   "execution_count": null,
   "id": "6d740831",
   "metadata": {},
   "outputs": [],
   "source": []
  },
  {
   "cell_type": "code",
   "execution_count": null,
   "id": "78178348",
   "metadata": {},
   "outputs": [],
   "source": []
  }
 ],
 "metadata": {
  "kernelspec": {
   "display_name": "venv",
   "language": "python",
   "name": "python3"
  },
  "language_info": {
   "codemirror_mode": {
    "name": "ipython",
    "version": 3
   },
   "file_extension": ".py",
   "mimetype": "text/x-python",
   "name": "python",
   "nbconvert_exporter": "python",
   "pygments_lexer": "ipython3",
   "version": "3.10.12"
  }
 },
 "nbformat": 4,
 "nbformat_minor": 5
}
