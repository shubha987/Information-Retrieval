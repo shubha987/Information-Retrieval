{
 "cells": [
  {
   "cell_type": "code",
   "execution_count": 2,
   "id": "01057c6f",
   "metadata": {},
   "outputs": [],
   "source": [
    "import pyterrier as pt\n",
    "import pandas as pd"
   ]
  },
  {
   "cell_type": "code",
   "execution_count": 4,
   "id": "5eebe0d1",
   "metadata": {},
   "outputs": [],
   "source": [
    "indexer = pt.IterDictIndexer('./indices/msmarco-passage')\n",
    "index = indexer.path\n",
    "bm25 = pt.terrier.Retriever(index, wmodel=\"BM25\", num_results=10) "
   ]
  },
  {
   "cell_type": "code",
   "execution_count": 7,
   "id": "eb3b0bed",
   "metadata": {},
   "outputs": [],
   "source": [
    "ds_topics = pt.get_dataset('irds:msmarco-passage/trec-dl-2019/judged')\n",
    "ds_text = pt.get_dataset('irds:msmarco-passage')\n",
    "topics = ds_topics.get_topics()"
   ]
  },
  {
   "cell_type": "code",
   "execution_count": 8,
   "id": "25cefa30",
   "metadata": {},
   "outputs": [],
   "source": [
    "def get_text_for_docnos(docnos, dataset):\n",
    "    \"\"\"Efficiently get text for specific document IDs\"\"\"\n",
    "    doc_texts = {}\n",
    "    \n",
    "    # Convert all docnos to the format we'll try\n",
    "    docno_variants = {}\n",
    "    for docno in docnos:\n",
    "        str_docno = str(docno)\n",
    "        docno_variants[str_docno] = docno\n",
    "        # Also try integer version if it's numeric\n",
    "        if str_docno.isdigit():\n",
    "            docno_variants[int(str_docno)] = docno\n",
    "    \n",
    "    # Only iterate through corpus until we find all needed documents\n",
    "    needed_ids = set(docno_variants.keys())\n",
    "    found_count = 0\n",
    "    \n",
    "    corpus_iter = dataset.get_corpus_iter()\n",
    "    for doc in corpus_iter:\n",
    "        doc_id = doc['docno']\n",
    "        \n",
    "        # Check if this document is one we need\n",
    "        if doc_id in needed_ids:\n",
    "            original_docno = docno_variants[doc_id]\n",
    "            doc_texts[original_docno] = doc['text']\n",
    "            found_count += 1\n",
    "            \n",
    "            # Stop early if we found all documents we need\n",
    "            if found_count >= len(docnos):\n",
    "                break\n",
    "    \n",
    "    # Fill in missing documents\n",
    "    for docno in docnos:\n",
    "        if docno not in doc_texts:\n",
    "            doc_texts[docno] = \"Document text not available\"\n",
    "    \n",
    "    return doc_texts"
   ]
  },
  {
   "cell_type": "code",
   "execution_count": 11,
   "id": "f8668175",
   "metadata": {},
   "outputs": [
    {
     "name": "stdout",
     "output_type": "stream",
     "text": [
      "Processing query 1/43: do goldfish grow\n"
     ]
    },
    {
     "name": "stderr",
     "output_type": "stream",
     "text": [
      "msmarco-passage documents:   0%|          | 0/8841823 [00:00<?, ?it/s]"
     ]
    },
    {
     "name": "stderr",
     "output_type": "stream",
     "text": [
      "msmarco-passage documents:  93%|█████████▎| 8182166/8841823 [00:23<00:01, 341771.26it/s]\n"
     ]
    },
    {
     "name": "stdout",
     "output_type": "stream",
     "text": [
      "\n",
      "Sample results for first query:\n",
      "     docno      score                                               text\n",
      "0  8182161  31.156444  A: While goldfish can grow up to 18 inches in ...\n",
      "1  6139386  31.032333  A: The conditions goldfish are kept in plus th...\n",
      "2  3288600  30.953843  A goldfish will grow to the depth of the water...\n",
      "Processing query 2/43: what is wifi vs bluetooth\n"
     ]
    },
    {
     "name": "stderr",
     "output_type": "stream",
     "text": [
      "msmarco-passage documents:  92%|█████████▏| 8160519/8841823 [00:25<00:02, 325800.25it/s]\n"
     ]
    },
    {
     "name": "stdout",
     "output_type": "stream",
     "text": [
      "Processing query 3/43: why did the us volunterilay enter ww1\n"
     ]
    },
    {
     "name": "stderr",
     "output_type": "stream",
     "text": [
      "msmarco-passage documents:  69%|██████▉   | 6093907/8841823 [00:19<00:08, 319468.03it/s]\n"
     ]
    },
    {
     "name": "stdout",
     "output_type": "stream",
     "text": [
      "Processing query 4/43: definition declaratory judgment\n"
     ]
    },
    {
     "name": "stderr",
     "output_type": "stream",
     "text": [
      "msmarco-passage documents:  97%|█████████▋| 8612906/8841823 [00:29<00:00, 291506.01it/s]\n"
     ]
    },
    {
     "name": "stdout",
     "output_type": "stream",
     "text": [
      "Processing query 5/43: right pelvic pain causes\n"
     ]
    },
    {
     "name": "stderr",
     "output_type": "stream",
     "text": [
      "msmarco-passage documents:  63%|██████▎   | 5583224/8841823 [00:18<00:10, 303933.00it/s]\n"
     ]
    },
    {
     "name": "stdout",
     "output_type": "stream",
     "text": [
      "Processing query 6/43: what are the social determinants of health\n"
     ]
    },
    {
     "name": "stderr",
     "output_type": "stream",
     "text": [
      "msmarco-passage documents:  84%|████████▎ | 7384325/8841823 [00:24<00:04, 299478.20it/s]\n"
     ]
    },
    {
     "name": "stdout",
     "output_type": "stream",
     "text": [
      "Processing query 7/43: does legionella pneumophila cause pneumonia\n"
     ]
    },
    {
     "name": "stderr",
     "output_type": "stream",
     "text": [
      "msmarco-passage documents:  44%|████▍     | 3908773/8841823 [00:12<00:15, 314556.48it/s]\n"
     ]
    },
    {
     "name": "stdout",
     "output_type": "stream",
     "text": [
      "Processing query 8/43: how is the weather in jamaica\n"
     ]
    },
    {
     "name": "stderr",
     "output_type": "stream",
     "text": [
      "msmarco-passage documents:  93%|█████████▎| 8255705/8841823 [00:26<00:01, 311602.81it/s]\n"
     ]
    },
    {
     "name": "stdout",
     "output_type": "stream",
     "text": [
      "Processing query 9/43: types of dysarthria from cerebral palsy\n"
     ]
    },
    {
     "name": "stderr",
     "output_type": "stream",
     "text": [
      "msmarco-passage documents:  97%|█████████▋| 8617271/8841823 [00:28<00:00, 304066.22it/s]\n"
     ]
    },
    {
     "name": "stdout",
     "output_type": "stream",
     "text": [
      "Processing query 10/43: who is robert gray\n"
     ]
    },
    {
     "name": "stderr",
     "output_type": "stream",
     "text": [
      "msmarco-passage documents:  99%|█████████▉| 8760873/8841823 [00:27<00:00, 318835.51it/s]\n"
     ]
    },
    {
     "name": "stdout",
     "output_type": "stream",
     "text": [
      "Processing query 11/43: what types of food can you cook sous vide\n"
     ]
    },
    {
     "name": "stderr",
     "output_type": "stream",
     "text": [
      "msmarco-passage documents:  93%|█████████▎| 8178998/8841823 [00:24<00:02, 327642.54it/s]\n"
     ]
    },
    {
     "name": "stdout",
     "output_type": "stream",
     "text": [
      "Processing query 12/43: how long is life cycle of flea\n"
     ]
    },
    {
     "name": "stderr",
     "output_type": "stream",
     "text": [
      "msmarco-passage documents:  75%|███████▌  | 6641238/8841823 [00:22<00:07, 299993.84it/s]\n"
     ]
    },
    {
     "name": "stdout",
     "output_type": "stream",
     "text": [
      "Processing query 13/43: what can contour plowing reduce\n"
     ]
    },
    {
     "name": "stderr",
     "output_type": "stream",
     "text": [
      "msmarco-passage documents:  91%|█████████ | 8052624/8841823 [00:32<00:03, 251408.95it/s]\n"
     ]
    },
    {
     "name": "stdout",
     "output_type": "stream",
     "text": [
      "Processing query 14/43: when was the salvation army founded\n"
     ]
    },
    {
     "name": "stderr",
     "output_type": "stream",
     "text": [
      "msmarco-passage documents:  98%|█████████▊| 8689057/8841823 [00:31<00:00, 277007.99it/s]\n"
     ]
    },
    {
     "name": "stdout",
     "output_type": "stream",
     "text": [
      "Processing query 15/43: what is a active margin\n"
     ]
    },
    {
     "name": "stderr",
     "output_type": "stream",
     "text": [
      "msmarco-passage documents:  92%|█████████▏| 8093931/8841823 [00:25<00:02, 315401.95it/s]\n"
     ]
    },
    {
     "name": "stdout",
     "output_type": "stream",
     "text": [
      "Processing query 16/43: difference between rn and bsn\n"
     ]
    },
    {
     "name": "stderr",
     "output_type": "stream",
     "text": [
      "msmarco-passage documents:  94%|█████████▎| 8283527/8841823 [00:28<00:01, 295289.53it/s]\n"
     ]
    },
    {
     "name": "stdout",
     "output_type": "stream",
     "text": [
      "Processing query 17/43: medicare s definition of mechanical ventilation\n"
     ]
    },
    {
     "name": "stderr",
     "output_type": "stream",
     "text": [
      "msmarco-passage documents:  62%|██████▏   | 5475308/8841823 [00:17<00:10, 309785.09it/s]\n"
     ]
    },
    {
     "name": "stdout",
     "output_type": "stream",
     "text": [
      "Processing query 18/43: how to find the midsegment of a trapezoid\n"
     ]
    },
    {
     "name": "stderr",
     "output_type": "stream",
     "text": [
      "msmarco-passage documents:  69%|██████▉   | 6108721/8841823 [00:21<00:09, 289088.71it/s]\n"
     ]
    },
    {
     "name": "stdout",
     "output_type": "stream",
     "text": [
      "Processing query 19/43: what is an aml surveillance analyst\n"
     ]
    },
    {
     "name": "stderr",
     "output_type": "stream",
     "text": [
      "msmarco-passage documents:  92%|█████████▏| 8106324/8841823 [00:27<00:02, 293645.80it/s]\n"
     ]
    },
    {
     "name": "stdout",
     "output_type": "stream",
     "text": [
      "Processing query 20/43: what is the daily life of thai people\n"
     ]
    },
    {
     "name": "stderr",
     "output_type": "stream",
     "text": [
      "msmarco-passage documents:  92%|█████████▏| 8139258/8841823 [00:31<00:02, 258809.45it/s]\n"
     ]
    },
    {
     "name": "stdout",
     "output_type": "stream",
     "text": [
      "Processing query 21/43: definition of a sigmet\n"
     ]
    },
    {
     "name": "stderr",
     "output_type": "stream",
     "text": [
      "msmarco-passage documents:  99%|█████████▊| 8710813/8841823 [00:26<00:00, 325455.38it/s]\n"
     ]
    },
    {
     "name": "stdout",
     "output_type": "stream",
     "text": [
      "Processing query 22/43: cost of interior concrete flooring\n"
     ]
    },
    {
     "name": "stderr",
     "output_type": "stream",
     "text": [
      "msmarco-passage documents:  96%|█████████▌| 8495099/8841823 [00:26<00:01, 325896.79it/s]\n"
     ]
    },
    {
     "name": "stdout",
     "output_type": "stream",
     "text": [
      "Processing query 23/43: what is the most popular food in switzerland\n"
     ]
    },
    {
     "name": "stderr",
     "output_type": "stream",
     "text": [
      "msmarco-passage documents:  98%|█████████▊| 8683095/8841823 [00:26<00:00, 326995.19it/s]\n"
     ]
    },
    {
     "name": "stdout",
     "output_type": "stream",
     "text": [
      "Processing query 24/43: how are some sharks warm blooded\n"
     ]
    },
    {
     "name": "stderr",
     "output_type": "stream",
     "text": [
      "msmarco-passage documents:  94%|█████████▎| 8273763/8841823 [00:25<00:01, 327402.64it/s]\n"
     ]
    },
    {
     "name": "stdout",
     "output_type": "stream",
     "text": [
      "Processing query 25/43: what is durable medical equipment consist of\n"
     ]
    },
    {
     "name": "stderr",
     "output_type": "stream",
     "text": [
      "msmarco-passage documents:  99%|█████████▉| 8754404/8841823 [00:26<00:00, 330679.89it/s]\n"
     ]
    },
    {
     "name": "stdout",
     "output_type": "stream",
     "text": [
      "Processing query 26/43: exons definition biology\n"
     ]
    },
    {
     "name": "stderr",
     "output_type": "stream",
     "text": [
      "msmarco-passage documents:  99%|█████████▉| 8794308/8841823 [00:30<00:00, 288630.34it/s]\n"
     ]
    },
    {
     "name": "stdout",
     "output_type": "stream",
     "text": [
      "Processing query 27/43: define visceral\n"
     ]
    },
    {
     "name": "stderr",
     "output_type": "stream",
     "text": [
      "msmarco-passage documents:  93%|█████████▎| 8204463/8841823 [00:28<00:02, 289541.96it/s]\n"
     ]
    },
    {
     "name": "stdout",
     "output_type": "stream",
     "text": [
      "Processing query 28/43: tracheids are part of\n"
     ]
    },
    {
     "name": "stderr",
     "output_type": "stream",
     "text": [
      "msmarco-passage documents:  96%|█████████▌| 8492305/8841823 [00:30<00:01, 281983.51it/s]\n"
     ]
    },
    {
     "name": "stdout",
     "output_type": "stream",
     "text": [
      "Processing query 29/43: rsa definition key\n"
     ]
    },
    {
     "name": "stderr",
     "output_type": "stream",
     "text": [
      "msmarco-passage documents:  89%|████████▊ | 7839906/8841823 [00:26<00:03, 298871.01it/s]\n"
     ]
    },
    {
     "name": "stdout",
     "output_type": "stream",
     "text": [
      "Processing query 30/43: who formed the commonwealth of independent states\n"
     ]
    },
    {
     "name": "stderr",
     "output_type": "stream",
     "text": [
      "msmarco-passage documents:  93%|█████████▎| 8220089/8841823 [00:28<00:02, 286676.23it/s]\n"
     ]
    },
    {
     "name": "stdout",
     "output_type": "stream",
     "text": [
      "Processing query 31/43: causes of left ventricular hypertrophy\n"
     ]
    },
    {
     "name": "stderr",
     "output_type": "stream",
     "text": [
      "msmarco-passage documents:  94%|█████████▍| 8332546/8841823 [00:27<00:01, 303899.80it/s]\n"
     ]
    },
    {
     "name": "stdout",
     "output_type": "stream",
     "text": [
      "Processing query 32/43: lps laws definition\n"
     ]
    },
    {
     "name": "stderr",
     "output_type": "stream",
     "text": [
      "msmarco-passage documents:  97%|█████████▋| 8536118/8841823 [00:27<00:00, 309503.72it/s]\n"
     ]
    },
    {
     "name": "stdout",
     "output_type": "stream",
     "text": [
      "Processing query 33/43: what are the three percenters\n"
     ]
    },
    {
     "name": "stderr",
     "output_type": "stream",
     "text": [
      "msmarco-passage documents:  86%|████████▌ | 7573692/8841823 [00:24<00:04, 309822.47it/s]\n"
     ]
    },
    {
     "name": "stdout",
     "output_type": "stream",
     "text": [
      "Processing query 34/43: causes of military suicide\n"
     ]
    },
    {
     "name": "stderr",
     "output_type": "stream",
     "text": [
      "msmarco-passage documents: 100%|█████████▉| 8819116/8841823 [00:28<00:00, 311087.86it/s]\n"
     ]
    },
    {
     "name": "stdout",
     "output_type": "stream",
     "text": [
      "Processing query 35/43: what is theraderm used for\n"
     ]
    },
    {
     "name": "stderr",
     "output_type": "stream",
     "text": [
      "msmarco-passage documents:  98%|█████████▊| 8651776/8841823 [00:27<00:00, 313300.12it/s]\n"
     ]
    },
    {
     "name": "stdout",
     "output_type": "stream",
     "text": [
      "Processing query 36/43: what is famvir prescribed for\n"
     ]
    },
    {
     "name": "stderr",
     "output_type": "stream",
     "text": [
      "msmarco-passage documents:  92%|█████████▏| 8117094/8841823 [00:26<00:02, 309010.48it/s]\n"
     ]
    },
    {
     "name": "stdout",
     "output_type": "stream",
     "text": [
      "Processing query 37/43: anthropological definition of environment\n"
     ]
    },
    {
     "name": "stderr",
     "output_type": "stream",
     "text": [
      "msmarco-passage documents:  95%|█████████▌| 8412687/8841823 [00:26<00:01, 311860.82it/s]\n"
     ]
    },
    {
     "name": "stdout",
     "output_type": "stream",
     "text": [
      "Processing query 38/43: axon terminals or synaptic knob definition\n"
     ]
    },
    {
     "name": "stderr",
     "output_type": "stream",
     "text": [
      "msmarco-passage documents:  98%|█████████▊| 8641107/8841823 [00:27<00:00, 311878.76it/s]\n"
     ]
    },
    {
     "name": "stdout",
     "output_type": "stream",
     "text": [
      "Processing query 39/43: is cdg airport in main paris\n"
     ]
    },
    {
     "name": "stderr",
     "output_type": "stream",
     "text": [
      "msmarco-passage documents:  95%|█████████▌| 8433858/8841823 [00:27<00:01, 308233.55it/s]\n"
     ]
    },
    {
     "name": "stdout",
     "output_type": "stream",
     "text": [
      "Processing query 40/43: example of monotonic function\n"
     ]
    },
    {
     "name": "stderr",
     "output_type": "stream",
     "text": [
      "msmarco-passage documents:  99%|█████████▉| 8757181/8841823 [00:27<00:00, 315555.45it/s]\n"
     ]
    },
    {
     "name": "stdout",
     "output_type": "stream",
     "text": [
      "Processing query 41/43: what is physical description of spruce\n"
     ]
    },
    {
     "name": "stderr",
     "output_type": "stream",
     "text": [
      "msmarco-passage documents:  92%|█████████▏| 8128798/8841823 [00:26<00:02, 311552.66it/s]\n"
     ]
    },
    {
     "name": "stdout",
     "output_type": "stream",
     "text": [
      "Processing query 42/43: hydrogen is a liquid below what temperature\n"
     ]
    },
    {
     "name": "stderr",
     "output_type": "stream",
     "text": [
      "msmarco-passage documents:  89%|████████▉ | 7911557/8841823 [00:25<00:02, 312925.24it/s]\n"
     ]
    },
    {
     "name": "stdout",
     "output_type": "stream",
     "text": [
      "Processing query 43/43: difference between a mcdouble and a double cheeseburger\n"
     ]
    },
    {
     "name": "stderr",
     "output_type": "stream",
     "text": [
      "msmarco-passage documents:  95%|█████████▌| 8434626/8841823 [00:27<00:01, 309881.63it/s]"
     ]
    },
    {
     "name": "stdout",
     "output_type": "stream",
     "text": [
      "\n",
      "Retrieved 425 documents across 43 queries\n",
      "Results saved to bm25_results.csv\n",
      "\n",
      "Top documents for first few queries:\n",
      "       qid    docno      score\n",
      "0   156493  8182161  31.156444\n",
      "0  1110199  3838645  36.361917\n",
      "0  1063750  4788295  30.340022\n",
      "0   130510  1494936  41.166240\n",
      "0   489204  1479542  38.213874\n"
     ]
    },
    {
     "name": "stderr",
     "output_type": "stream",
     "text": [
      "\n"
     ]
    }
   ],
   "source": [
    "# Process each query with BM25 only, but also add text in the same format as MonoT5\n",
    "all_results = []\n",
    "\n",
    "for idx, row in topics.iterrows():\n",
    "    query_id = row['qid']\n",
    "    query_text = row['query']\n",
    "    \n",
    "    print(f\"Processing query {idx+1}/{len(topics)}: {query_text}\")\n",
    "    \n",
    "    # Get BM25 results - no reranking needed\n",
    "    results = bm25.search(query_text)\n",
    "    \n",
    "    # Add text to the results\n",
    "    docnos = results['docno'].tolist()\n",
    "    doc_texts = get_text_for_docnos(docnos, ds_text)\n",
    "    results['text'] = results['docno'].map(doc_texts)\n",
    "    \n",
    "    # Add query information to results\n",
    "    results['qid'] = query_id\n",
    "    results['query'] = query_text\n",
    "    \n",
    "    # Add docid (same as docno) to match MonoT5 format\n",
    "    results['docid'] = results['docno']\n",
    "    \n",
    "    # Convert rank to 0-based if needed\n",
    "    if 'rank' in results.columns and results['rank'].min() == 1:\n",
    "        results['rank'] = results['rank'] - 1\n",
    "    # Create rank column if missing\n",
    "    elif 'rank' not in results.columns:\n",
    "        results['rank'] = range(len(results))\n",
    "    \n",
    "    # Reorder columns to match MonoT5 CSV structure\n",
    "    results = results[['qid', 'docid', 'docno', 'query', 'text', 'score', 'rank']]\n",
    "    \n",
    "    # Add to collection\n",
    "    all_results.append(results)\n",
    "    \n",
    "    # Show progress for first query\n",
    "    if idx == 0:\n",
    "        print(\"\\nSample results for first query:\")\n",
    "        print(results[['docno', 'score', 'text']].head(3))\n",
    "\n",
    "# Combine all results\n",
    "combined_results = pd.concat(all_results) if all_results else pd.DataFrame()\n",
    "\n",
    "# Save results to CSV\n",
    "combined_results.to_csv('bm25_results.csv', index=False)\n",
    "\n",
    "print(f\"\\nRetrieved {len(combined_results)} documents across {len(topics)} queries\")\n",
    "print(f\"Results saved to bm25_results.csv\")\n",
    "\n",
    "# Show summary of results\n",
    "print(\"\\nTop documents for first few queries:\")\n",
    "print(combined_results.groupby('qid').head(1)[['qid', 'docno', 'score']].head(5))"
   ]
  },
  {
   "cell_type": "code",
   "execution_count": null,
   "id": "8d06335f",
   "metadata": {},
   "outputs": [],
   "source": []
  }
 ],
 "metadata": {
  "kernelspec": {
   "display_name": "venv",
   "language": "python",
   "name": "python3"
  },
  "language_info": {
   "codemirror_mode": {
    "name": "ipython",
    "version": 3
   },
   "file_extension": ".py",
   "mimetype": "text/x-python",
   "name": "python",
   "nbconvert_exporter": "python",
   "pygments_lexer": "ipython3",
   "version": "3.10.12"
  }
 },
 "nbformat": 4,
 "nbformat_minor": 5
}
