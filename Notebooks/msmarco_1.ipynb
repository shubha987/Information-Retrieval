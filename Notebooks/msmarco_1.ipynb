{
 "cells": [
  {
   "cell_type": "code",
   "execution_count": 8,
   "id": "600adb54",
   "metadata": {},
   "outputs": [
    {
     "name": "stdout",
     "output_type": "stream",
     "text": [
      "Note: you may need to restart the kernel to use updated packages.\n"
     ]
    }
   ],
   "source": [
    "# Try the PyPI version instead of GitHub\n",
    "%pip install -q --no-cache-dir pyterrier-t5"
   ]
  },
  {
   "cell_type": "code",
   "execution_count": 2,
   "id": "d15d1898",
   "metadata": {},
   "outputs": [
    {
     "name": "stderr",
     "output_type": "stream",
     "text": [
      "/home/killdollar/btp/Information-Retrieval/venv/lib/python3.10/site-packages/tqdm/auto.py:21: TqdmWarning: IProgress not found. Please update jupyter and ipywidgets. See https://ipywidgets.readthedocs.io/en/stable/user_install.html\n",
      "  from .autonotebook import tqdm as notebook_tqdm\n",
      "You are using the default legacy behaviour of the <class 'transformers.models.t5.tokenization_t5.T5Tokenizer'>. This is expected, and simply means that the `legacy` (previous) behavior will be used so nothing changes for you. If you want to use the new behaviour, set `legacy=False`. This should only be set if you understand what it means, and thoroughly read the reason why this was added as explained in https://github.com/huggingface/transformers/pull/24565\n"
     ]
    }
   ],
   "source": [
    "import pyterrier as pt\n",
    "from pyterrier_t5 import MonoT5ReRanker\n",
    "monoT5 = MonoT5ReRanker()"
   ]
  },
  {
   "cell_type": "code",
   "execution_count": 3,
   "id": "05ad78de",
   "metadata": {},
   "outputs": [
    {
     "name": "stderr",
     "output_type": "stream",
     "text": [
      "Java started (triggered by TerrierIndexer.__init__) and loaded: pyterrier.java, pyterrier.terrier.java [version=5.11 (build: craig.macdonald 2025-01-13 21:29), helper_version=0.0.8]\n"
     ]
    }
   ],
   "source": [
    "indexer = pt.IterDictIndexer('./indices/msmarco-passage')\n",
    "index = indexer.path"
   ]
  },
  {
   "cell_type": "code",
   "execution_count": 10,
   "id": "f5b07032",
   "metadata": {},
   "outputs": [
    {
     "name": "stderr",
     "output_type": "stream",
     "text": [
      "/tmp/ipykernel_5110/302786154.py:1: DeprecationWarning: Call to deprecated class BatchRetrieve. (use pt.terrier.Retriever() instead) -- Deprecated since version 0.11.0.\n",
      "  bm25 = pt.BatchRetrieve(index, wmodel=\"BM25\", num_results=100)\n"
     ]
    }
   ],
   "source": [
    "bm25 = pt.BatchRetrieve(index, wmodel=\"BM25\", num_results=100)"
   ]
  },
  {
   "cell_type": "code",
   "execution_count": 11,
   "id": "8b9b2ac9",
   "metadata": {},
   "outputs": [],
   "source": [
    "dataset = pt.get_dataset('irds:msmarco-passage/trec-dl-2019/judged')"
   ]
  },
  {
   "cell_type": "code",
   "execution_count": 12,
   "id": "271758a5",
   "metadata": {},
   "outputs": [
    {
     "name": "stdout",
     "output_type": "stream",
     "text": [
      "Processing query 1/43: do goldfish grow\n"
     ]
    },
    {
     "name": "stderr",
     "output_type": "stream",
     "text": [
      "monoT5: 100%|██████████| 25/25 [00:06<00:00,  4.11batches/s]\n"
     ]
    },
    {
     "name": "stdout",
     "output_type": "stream",
     "text": [
      "\n",
      "Sample results for first query:\n",
      "     docno      score\n",
      "0  8182161 -13.589843\n",
      "1  6139386 -13.589843\n",
      "2  3288600 -13.589843\n",
      "Processing query 2/43: what is wifi vs bluetooth\n"
     ]
    },
    {
     "name": "stderr",
     "output_type": "stream",
     "text": [
      "monoT5: 100%|██████████| 25/25 [00:06<00:00,  4.08batches/s]\n"
     ]
    },
    {
     "name": "stdout",
     "output_type": "stream",
     "text": [
      "Processing query 3/43: why did the us volunterilay enter ww1\n"
     ]
    },
    {
     "name": "stderr",
     "output_type": "stream",
     "text": [
      "monoT5: 100%|██████████| 25/25 [00:05<00:00,  4.30batches/s]\n"
     ]
    },
    {
     "name": "stdout",
     "output_type": "stream",
     "text": [
      "Processing query 4/43: definition declaratory judgment\n"
     ]
    },
    {
     "name": "stderr",
     "output_type": "stream",
     "text": [
      "monoT5: 100%|██████████| 25/25 [00:04<00:00,  5.16batches/s]\n"
     ]
    },
    {
     "name": "stdout",
     "output_type": "stream",
     "text": [
      "Processing query 5/43: right pelvic pain causes\n"
     ]
    },
    {
     "name": "stderr",
     "output_type": "stream",
     "text": [
      "monoT5: 100%|██████████| 25/25 [00:04<00:00,  5.11batches/s]\n"
     ]
    },
    {
     "name": "stdout",
     "output_type": "stream",
     "text": [
      "Processing query 6/43: what are the social determinants of health\n"
     ]
    },
    {
     "name": "stderr",
     "output_type": "stream",
     "text": [
      "monoT5: 100%|██████████| 25/25 [00:05<00:00,  4.67batches/s]\n"
     ]
    },
    {
     "name": "stdout",
     "output_type": "stream",
     "text": [
      "Processing query 7/43: does legionella pneumophila cause pneumonia\n"
     ]
    },
    {
     "name": "stderr",
     "output_type": "stream",
     "text": [
      "monoT5: 100%|██████████| 25/25 [00:05<00:00,  4.48batches/s]\n"
     ]
    },
    {
     "name": "stdout",
     "output_type": "stream",
     "text": [
      "Processing query 8/43: how is the weather in jamaica\n"
     ]
    },
    {
     "name": "stderr",
     "output_type": "stream",
     "text": [
      "monoT5: 100%|██████████| 25/25 [00:06<00:00,  3.66batches/s]\n"
     ]
    },
    {
     "name": "stdout",
     "output_type": "stream",
     "text": [
      "Processing query 9/43: types of dysarthria from cerebral palsy\n"
     ]
    },
    {
     "name": "stderr",
     "output_type": "stream",
     "text": [
      "monoT5: 100%|██████████| 25/25 [00:06<00:00,  3.85batches/s]\n"
     ]
    },
    {
     "name": "stdout",
     "output_type": "stream",
     "text": [
      "Processing query 10/43: who is robert gray\n"
     ]
    },
    {
     "name": "stderr",
     "output_type": "stream",
     "text": [
      "monoT5: 100%|██████████| 25/25 [00:05<00:00,  4.56batches/s]\n"
     ]
    },
    {
     "name": "stdout",
     "output_type": "stream",
     "text": [
      "Processing query 11/43: what types of food can you cook sous vide\n"
     ]
    },
    {
     "name": "stderr",
     "output_type": "stream",
     "text": [
      "monoT5: 100%|██████████| 25/25 [00:05<00:00,  4.94batches/s]\n"
     ]
    },
    {
     "name": "stdout",
     "output_type": "stream",
     "text": [
      "Processing query 12/43: how long is life cycle of flea\n"
     ]
    },
    {
     "name": "stderr",
     "output_type": "stream",
     "text": [
      "monoT5: 100%|██████████| 25/25 [00:05<00:00,  5.00batches/s]\n"
     ]
    },
    {
     "name": "stdout",
     "output_type": "stream",
     "text": [
      "Processing query 13/43: what can contour plowing reduce\n"
     ]
    },
    {
     "name": "stderr",
     "output_type": "stream",
     "text": [
      "monoT5: 100%|██████████| 25/25 [00:04<00:00,  5.47batches/s]\n"
     ]
    },
    {
     "name": "stdout",
     "output_type": "stream",
     "text": [
      "Processing query 14/43: when was the salvation army founded\n"
     ]
    },
    {
     "name": "stderr",
     "output_type": "stream",
     "text": [
      "monoT5: 100%|██████████| 25/25 [00:04<00:00,  5.29batches/s]\n"
     ]
    },
    {
     "name": "stdout",
     "output_type": "stream",
     "text": [
      "Processing query 15/43: what is a active margin\n"
     ]
    },
    {
     "name": "stderr",
     "output_type": "stream",
     "text": [
      "monoT5: 100%|██████████| 25/25 [00:04<00:00,  5.31batches/s]\n"
     ]
    },
    {
     "name": "stdout",
     "output_type": "stream",
     "text": [
      "Processing query 16/43: difference between rn and bsn\n"
     ]
    },
    {
     "name": "stderr",
     "output_type": "stream",
     "text": [
      "monoT5: 100%|██████████| 25/25 [00:05<00:00,  4.77batches/s]\n"
     ]
    },
    {
     "name": "stdout",
     "output_type": "stream",
     "text": [
      "Processing query 17/43: medicare s definition of mechanical ventilation\n"
     ]
    },
    {
     "name": "stderr",
     "output_type": "stream",
     "text": [
      "monoT5: 100%|██████████| 25/25 [00:04<00:00,  5.02batches/s]\n"
     ]
    },
    {
     "name": "stdout",
     "output_type": "stream",
     "text": [
      "Processing query 18/43: how to find the midsegment of a trapezoid\n"
     ]
    },
    {
     "name": "stderr",
     "output_type": "stream",
     "text": [
      "monoT5: 100%|██████████| 25/25 [00:05<00:00,  4.38batches/s]\n"
     ]
    },
    {
     "name": "stdout",
     "output_type": "stream",
     "text": [
      "Processing query 19/43: what is an aml surveillance analyst\n"
     ]
    },
    {
     "name": "stderr",
     "output_type": "stream",
     "text": [
      "monoT5: 100%|██████████| 25/25 [00:04<00:00,  5.03batches/s]\n"
     ]
    },
    {
     "name": "stdout",
     "output_type": "stream",
     "text": [
      "Processing query 20/43: what is the daily life of thai people\n"
     ]
    },
    {
     "name": "stderr",
     "output_type": "stream",
     "text": [
      "monoT5: 100%|██████████| 25/25 [00:05<00:00,  4.71batches/s]\n"
     ]
    },
    {
     "name": "stdout",
     "output_type": "stream",
     "text": [
      "Processing query 21/43: definition of a sigmet\n"
     ]
    },
    {
     "name": "stderr",
     "output_type": "stream",
     "text": [
      "monoT5: 100%|██████████| 25/25 [00:06<00:00,  3.81batches/s]\n"
     ]
    },
    {
     "name": "stdout",
     "output_type": "stream",
     "text": [
      "Processing query 22/43: cost of interior concrete flooring\n"
     ]
    },
    {
     "name": "stderr",
     "output_type": "stream",
     "text": [
      "monoT5: 100%|██████████| 25/25 [00:05<00:00,  4.72batches/s]\n"
     ]
    },
    {
     "name": "stdout",
     "output_type": "stream",
     "text": [
      "Processing query 23/43: what is the most popular food in switzerland\n"
     ]
    },
    {
     "name": "stderr",
     "output_type": "stream",
     "text": [
      "monoT5: 100%|██████████| 25/25 [00:06<00:00,  3.80batches/s]\n"
     ]
    },
    {
     "name": "stdout",
     "output_type": "stream",
     "text": [
      "Processing query 24/43: how are some sharks warm blooded\n"
     ]
    },
    {
     "name": "stderr",
     "output_type": "stream",
     "text": [
      "monoT5: 100%|██████████| 25/25 [00:05<00:00,  4.36batches/s]\n"
     ]
    },
    {
     "name": "stdout",
     "output_type": "stream",
     "text": [
      "Processing query 25/43: what is durable medical equipment consist of\n"
     ]
    },
    {
     "name": "stderr",
     "output_type": "stream",
     "text": [
      "monoT5: 100%|██████████| 25/25 [00:05<00:00,  4.21batches/s]\n"
     ]
    },
    {
     "name": "stdout",
     "output_type": "stream",
     "text": [
      "Processing query 26/43: exons definition biology\n"
     ]
    },
    {
     "name": "stderr",
     "output_type": "stream",
     "text": [
      "monoT5: 100%|██████████| 25/25 [00:05<00:00,  4.49batches/s]\n"
     ]
    },
    {
     "name": "stdout",
     "output_type": "stream",
     "text": [
      "Processing query 27/43: define visceral\n"
     ]
    },
    {
     "name": "stderr",
     "output_type": "stream",
     "text": [
      "monoT5: 100%|██████████| 25/25 [00:04<00:00,  5.25batches/s]\n"
     ]
    },
    {
     "name": "stdout",
     "output_type": "stream",
     "text": [
      "Processing query 28/43: tracheids are part of\n"
     ]
    },
    {
     "name": "stderr",
     "output_type": "stream",
     "text": [
      "monoT5: 100%|██████████| 25/25 [00:05<00:00,  4.71batches/s]\n"
     ]
    },
    {
     "name": "stdout",
     "output_type": "stream",
     "text": [
      "Processing query 29/43: rsa definition key\n"
     ]
    },
    {
     "name": "stderr",
     "output_type": "stream",
     "text": [
      "monoT5: 100%|██████████| 25/25 [00:04<00:00,  5.37batches/s]\n"
     ]
    },
    {
     "name": "stdout",
     "output_type": "stream",
     "text": [
      "Processing query 30/43: who formed the commonwealth of independent states\n"
     ]
    },
    {
     "name": "stderr",
     "output_type": "stream",
     "text": [
      "monoT5: 100%|██████████| 25/25 [00:05<00:00,  4.81batches/s]\n"
     ]
    },
    {
     "name": "stdout",
     "output_type": "stream",
     "text": [
      "Processing query 31/43: causes of left ventricular hypertrophy\n"
     ]
    },
    {
     "name": "stderr",
     "output_type": "stream",
     "text": [
      "monoT5: 100%|██████████| 25/25 [00:05<00:00,  4.87batches/s]\n"
     ]
    },
    {
     "name": "stdout",
     "output_type": "stream",
     "text": [
      "Processing query 32/43: lps laws definition\n"
     ]
    },
    {
     "name": "stderr",
     "output_type": "stream",
     "text": [
      "monoT5: 100%|██████████| 25/25 [00:04<00:00,  5.26batches/s]\n"
     ]
    },
    {
     "name": "stdout",
     "output_type": "stream",
     "text": [
      "Processing query 33/43: what are the three percenters\n"
     ]
    },
    {
     "name": "stderr",
     "output_type": "stream",
     "text": [
      "monoT5: 100%|██████████| 25/25 [00:04<00:00,  5.13batches/s]\n"
     ]
    },
    {
     "name": "stdout",
     "output_type": "stream",
     "text": [
      "Processing query 34/43: causes of military suicide\n"
     ]
    },
    {
     "name": "stderr",
     "output_type": "stream",
     "text": [
      "monoT5: 100%|██████████| 25/25 [00:04<00:00,  5.49batches/s]\n"
     ]
    },
    {
     "name": "stdout",
     "output_type": "stream",
     "text": [
      "Processing query 35/43: what is theraderm used for\n"
     ]
    },
    {
     "name": "stderr",
     "output_type": "stream",
     "text": [
      "monoT5: 100%|██████████| 2/2 [00:00<00:00,  4.60batches/s]\n"
     ]
    },
    {
     "name": "stdout",
     "output_type": "stream",
     "text": [
      "Processing query 36/43: what is famvir prescribed for\n"
     ]
    },
    {
     "name": "stderr",
     "output_type": "stream",
     "text": [
      "monoT5: 100%|██████████| 25/25 [00:05<00:00,  4.90batches/s]\n"
     ]
    },
    {
     "name": "stdout",
     "output_type": "stream",
     "text": [
      "Processing query 37/43: anthropological definition of environment\n"
     ]
    },
    {
     "name": "stderr",
     "output_type": "stream",
     "text": [
      "monoT5: 100%|██████████| 25/25 [00:04<00:00,  5.42batches/s]\n"
     ]
    },
    {
     "name": "stdout",
     "output_type": "stream",
     "text": [
      "Processing query 38/43: axon terminals or synaptic knob definition\n"
     ]
    },
    {
     "name": "stderr",
     "output_type": "stream",
     "text": [
      "monoT5: 100%|██████████| 25/25 [00:05<00:00,  4.69batches/s]\n"
     ]
    },
    {
     "name": "stdout",
     "output_type": "stream",
     "text": [
      "Processing query 39/43: is cdg airport in main paris\n"
     ]
    },
    {
     "name": "stderr",
     "output_type": "stream",
     "text": [
      "monoT5: 100%|██████████| 25/25 [00:05<00:00,  4.54batches/s]\n"
     ]
    },
    {
     "name": "stdout",
     "output_type": "stream",
     "text": [
      "Processing query 40/43: example of monotonic function\n"
     ]
    },
    {
     "name": "stderr",
     "output_type": "stream",
     "text": [
      "monoT5: 100%|██████████| 25/25 [00:04<00:00,  5.49batches/s]\n"
     ]
    },
    {
     "name": "stdout",
     "output_type": "stream",
     "text": [
      "Processing query 41/43: what is physical description of spruce\n"
     ]
    },
    {
     "name": "stderr",
     "output_type": "stream",
     "text": [
      "monoT5: 100%|██████████| 25/25 [00:05<00:00,  4.89batches/s]\n"
     ]
    },
    {
     "name": "stdout",
     "output_type": "stream",
     "text": [
      "Processing query 42/43: hydrogen is a liquid below what temperature\n"
     ]
    },
    {
     "name": "stderr",
     "output_type": "stream",
     "text": [
      "monoT5: 100%|██████████| 25/25 [00:05<00:00,  4.42batches/s]\n"
     ]
    },
    {
     "name": "stdout",
     "output_type": "stream",
     "text": [
      "Processing query 43/43: difference between a mcdouble and a double cheeseburger\n"
     ]
    },
    {
     "name": "stderr",
     "output_type": "stream",
     "text": [
      "monoT5: 100%|██████████| 25/25 [00:05<00:00,  4.54batches/s]"
     ]
    },
    {
     "name": "stdout",
     "output_type": "stream",
     "text": [
      "\n",
      "Retrieved 425 documents across 43 queries\n",
      "Results saved to monot5_results.csv\n",
      "\n",
      "Top documents for first few queries:\n",
      "       qid    docno      score\n",
      "0   156493  8182161 -13.589843\n",
      "0  1110199  3838645 -13.018057\n",
      "0  1063750  4788295 -13.544714\n",
      "0   130510  1494936 -11.937598\n",
      "0   489204  1479542 -13.447414\n"
     ]
    },
    {
     "name": "stderr",
     "output_type": "stream",
     "text": [
      "\n"
     ]
    }
   ],
   "source": [
    "# Process each query manually to avoid the document ID mismatch\n",
    "import pandas as pd\n",
    "topics = dataset.get_topics()\n",
    "all_results = []\n",
    "\n",
    "for idx, row in topics.iterrows():\n",
    "    query_id = row['qid']\n",
    "    query_text = row['query']\n",
    "    \n",
    "    print(f\"Processing query {idx+1}/{len(topics)}: {query_text}\")\n",
    "    \n",
    "    # Step 1: Get initial results from BM25\n",
    "    initial_results = bm25.search(query_text)\n",
    "    \n",
    "    # Step 2: Fetch document text from the dataset directly\n",
    "    docnos = initial_results['docno'].tolist()\n",
    "    doc_texts = {}\n",
    "    \n",
    "    # Get document text from dataset safely\n",
    "    for docno in docnos:\n",
    "        try:\n",
    "            # Convert to string if needed\n",
    "            doc_id = str(docno)\n",
    "            text = dataset.get_document_text(doc_id)\n",
    "            doc_texts[docno] = text\n",
    "        except Exception as e:\n",
    "            # If document not found, use a placeholder\n",
    "            doc_texts[docno] = \"Document text not available\"\n",
    "    \n",
    "    # Add text to results\n",
    "    initial_results['text'] = initial_results['docno'].map(doc_texts)\n",
    "    \n",
    "    # Step 3: Apply MonoT5 reranking\n",
    "    # Check if MonoT5 is working (otherwise revert to sorting by BM25 score)\n",
    "    try:\n",
    "        reranked_results = monoT5.transform(initial_results)\n",
    "        # Sort by MonoT5 score and take top 10\n",
    "        top_results = reranked_results.sort_values('score', ascending=False).head(10)\n",
    "    except Exception as e:\n",
    "        print(f\"MonoT5 reranking error: {e}\")\n",
    "        # Fallback to BM25 ranking\n",
    "        top_results = initial_results.head(10)\n",
    "    \n",
    "    # Add query ID to results\n",
    "    top_results['qid'] = query_id\n",
    "    \n",
    "    # Store results\n",
    "    all_results.append(top_results)\n",
    "    \n",
    "    # Show progress\n",
    "    if idx == 0:\n",
    "        print(\"\\nSample results for first query:\")\n",
    "        print(top_results[['docno', 'score']].head(3))\n",
    "\n",
    "# Combine all results\n",
    "combined_results = pd.concat(all_results) if all_results else pd.DataFrame()\n",
    "\n",
    "# Save results to CSV\n",
    "combined_results.to_csv('monot5_results.csv', index=False)\n",
    "\n",
    "print(f\"\\nRetrieved {len(combined_results)} documents across {len(topics)} queries\")\n",
    "print(f\"Results saved to monot5_results.csv\")\n",
    "\n",
    "# Show summary of results\n",
    "print(\"\\nTop documents for first few queries:\")\n",
    "print(combined_results.groupby('qid').head(1)[['qid', 'docno', 'score']].head(5))"
   ]
  },
  {
   "cell_type": "code",
   "execution_count": null,
   "id": "73035b7b",
   "metadata": {},
   "outputs": [],
   "source": []
  }
 ],
 "metadata": {
  "kernelspec": {
   "display_name": "venv",
   "language": "python",
   "name": "python3"
  },
  "language_info": {
   "codemirror_mode": {
    "name": "ipython",
    "version": 3
   },
   "file_extension": ".py",
   "mimetype": "text/x-python",
   "name": "python",
   "nbconvert_exporter": "python",
   "pygments_lexer": "ipython3",
   "version": "3.10.12"
  }
 },
 "nbformat": 4,
 "nbformat_minor": 5
}
